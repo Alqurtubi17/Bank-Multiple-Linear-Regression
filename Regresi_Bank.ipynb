{
  "nbformat": 4,
  "nbformat_minor": 0,
  "metadata": {
    "colab": {
      "name": "Regresi Bank.ipynb",
      "provenance": [],
      "collapsed_sections": [
        "6BqHoN3zsoLv",
        "r40dN_O_3hDb",
        "wG-frusH3nUe"
      ],
      "toc_visible": true,
      "authorship_tag": "ABX9TyNAMHsxXMIb49lO6hmrZo0F",
      "include_colab_link": true
    },
    "kernelspec": {
      "name": "python3",
      "display_name": "Python 3"
    },
    "language_info": {
      "name": "python"
    }
  },
  "cells": [
    {
      "cell_type": "markdown",
      "metadata": {
        "id": "view-in-github",
        "colab_type": "text"
      },
      "source": [
        "<a href=\"https://colab.research.google.com/github/Alqurtubi17/Bank-Multiple-Linear-Regression/blob/master/Regresi_Bank.ipynb\" target=\"_parent\"><img src=\"https://colab.research.google.com/assets/colab-badge.svg\" alt=\"Open In Colab\"/></a>"
      ]
    },
    {
      "cell_type": "markdown",
      "source": [
        "# Library"
      ],
      "metadata": {
        "id": "oV5uMPHq4Dbj"
      }
    },
    {
      "cell_type": "code",
      "execution_count": 1,
      "metadata": {
        "colab": {
          "base_uri": "https://localhost:8080/"
        },
        "id": "DYX6JG35SmW3",
        "outputId": "1bdcd5f9-8975-4195-a338-b8005faddeb9"
      },
      "outputs": [
        {
          "output_type": "stream",
          "name": "stderr",
          "text": [
            "/usr/local/lib/python3.7/dist-packages/statsmodels/tools/_testing.py:19: FutureWarning: pandas.util.testing is deprecated. Use the functions in the public API at pandas.testing instead.\n",
            "  import pandas.util.testing as tm\n"
          ]
        }
      ],
      "source": [
        "import numpy as np\n",
        "import pandas as pd\n",
        "import matplotlib.pyplot as plt\n",
        "import seaborn as sns\n",
        "from sklearn.linear_model import LinearRegression\n",
        "from sklearn.metrics import mean_squared_error, r2_score\n",
        "import statsmodels.api as sm\n",
        "from scipy import stats\n",
        "from sklearn.preprocessing import MinMaxScaler\n",
        "from statsmodels.graphics.gofplots import qqplot\n",
        "from statsmodels.stats.diagnostic import het_white\n",
        "from statsmodels.compat import lzip\n",
        "import pylab \n",
        "import scipy.stats as stats\n",
        "from scipy.stats import kstest\n",
        "from scipy.stats import shapiro\n",
        "from patsy import dmatrices\n",
        "from statsmodels.stats.outliers_influence import variance_inflation_factor\n",
        "from scipy.stats import pearsonr\n",
        "import warnings\n",
        "warnings.filterwarnings(\"ignore\", category=FutureWarning)"
      ]
    },
    {
      "cell_type": "markdown",
      "source": [
        "# Data"
      ],
      "metadata": {
        "id": "lPNktmwc4HR7"
      }
    },
    {
      "cell_type": "code",
      "source": [
        "url = \"https://raw.githubusercontent.com/Alqurtubi17/Bank-Multiple-Linear-Regression/master/BANK%20-%20Data.csv\"\n",
        "df = pd.read_csv(url,sep = ';')\n",
        "df.head(5)"
      ],
      "metadata": {
        "colab": {
          "base_uri": "https://localhost:8080/",
          "height": 305
        },
        "id": "3gtksQqtUmFb",
        "outputId": "a47fd691-f5d6-4541-dc9f-8946652ccdfc"
      },
      "execution_count": 2,
      "outputs": [
        {
          "output_type": "execute_result",
          "data": {
            "text/plain": [
              "                              Bank BPD  Tahun   Roa  Risiko  \\\n",
              "0  Sulawesi.Selatan.dan.Sulawesi.Barat   2018  3.67    0.78   \n",
              "1  Sulawesi.Selatan.dan.Sulawesi.Barat   2019  3.36    0.16   \n",
              "2  Sulawesi.Selatan.dan.Sulawesi.Barat   2020  3.12    0.28   \n",
              "3  Sulawesi.Selatan.dan.Sulawesi.Barat   2021  3.09    0.15   \n",
              "4                           Jawa.Barat   2018  1.71    0.26   \n",
              "\n",
              "   Kredit Masalah Produktif  Total Kredit Produktif    Total Kredit  \\\n",
              "0               45657507948           3315582238093  15971679770192   \n",
              "1              192916456606           3993982225607  18424050956824   \n",
              "2               96475990095           4545728882592  19653526947618   \n",
              "3              132615330379           4673364835103  21267419581139   \n",
              "4             1025468000000          18969885000000  79991787000000   \n",
              "\n",
              "   NPL Produktif       Total Aset  Diversifikasi  Beban Training  \\\n",
              "0           1.38   20576423170440          77.62      4818109026   \n",
              "1           4.83   23541662250195          78.26      6150024591   \n",
              "2           2.12   24830410397906          79.15      7383405548   \n",
              "3           2.84   27784972251064          76.54     14234938688   \n",
              "4           5.41  120191387000000          66.55    110758000000   \n",
              "\n",
              "       Beban SDM  Persentase Beban Training  LN Total Aset         GDP  \n",
              "0   434007307623                       1.11        30.6552   -1.278195  \n",
              "1   432727372659                       1.42        30.7898   -6.655974  \n",
              "2   485262938979                       1.52        30.8431  500.964630  \n",
              "3   531917397085                       2.68        30.9555  143.134535  \n",
              "4  2160020000000                       5.13        32.4201   -0.920277  "
            ],
            "text/html": [
              "\n",
              "  <div id=\"df-58a85975-7d16-43cf-8f77-fdb00bebe61d\">\n",
              "    <div class=\"colab-df-container\">\n",
              "      <div>\n",
              "<style scoped>\n",
              "    .dataframe tbody tr th:only-of-type {\n",
              "        vertical-align: middle;\n",
              "    }\n",
              "\n",
              "    .dataframe tbody tr th {\n",
              "        vertical-align: top;\n",
              "    }\n",
              "\n",
              "    .dataframe thead th {\n",
              "        text-align: right;\n",
              "    }\n",
              "</style>\n",
              "<table border=\"1\" class=\"dataframe\">\n",
              "  <thead>\n",
              "    <tr style=\"text-align: right;\">\n",
              "      <th></th>\n",
              "      <th>Bank BPD</th>\n",
              "      <th>Tahun</th>\n",
              "      <th>Roa</th>\n",
              "      <th>Risiko</th>\n",
              "      <th>Kredit Masalah Produktif</th>\n",
              "      <th>Total Kredit Produktif</th>\n",
              "      <th>Total Kredit</th>\n",
              "      <th>NPL Produktif</th>\n",
              "      <th>Total Aset</th>\n",
              "      <th>Diversifikasi</th>\n",
              "      <th>Beban Training</th>\n",
              "      <th>Beban SDM</th>\n",
              "      <th>Persentase Beban Training</th>\n",
              "      <th>LN Total Aset</th>\n",
              "      <th>GDP</th>\n",
              "    </tr>\n",
              "  </thead>\n",
              "  <tbody>\n",
              "    <tr>\n",
              "      <th>0</th>\n",
              "      <td>Sulawesi.Selatan.dan.Sulawesi.Barat</td>\n",
              "      <td>2018</td>\n",
              "      <td>3.67</td>\n",
              "      <td>0.78</td>\n",
              "      <td>45657507948</td>\n",
              "      <td>3315582238093</td>\n",
              "      <td>15971679770192</td>\n",
              "      <td>1.38</td>\n",
              "      <td>20576423170440</td>\n",
              "      <td>77.62</td>\n",
              "      <td>4818109026</td>\n",
              "      <td>434007307623</td>\n",
              "      <td>1.11</td>\n",
              "      <td>30.6552</td>\n",
              "      <td>-1.278195</td>\n",
              "    </tr>\n",
              "    <tr>\n",
              "      <th>1</th>\n",
              "      <td>Sulawesi.Selatan.dan.Sulawesi.Barat</td>\n",
              "      <td>2019</td>\n",
              "      <td>3.36</td>\n",
              "      <td>0.16</td>\n",
              "      <td>192916456606</td>\n",
              "      <td>3993982225607</td>\n",
              "      <td>18424050956824</td>\n",
              "      <td>4.83</td>\n",
              "      <td>23541662250195</td>\n",
              "      <td>78.26</td>\n",
              "      <td>6150024591</td>\n",
              "      <td>432727372659</td>\n",
              "      <td>1.42</td>\n",
              "      <td>30.7898</td>\n",
              "      <td>-6.655974</td>\n",
              "    </tr>\n",
              "    <tr>\n",
              "      <th>2</th>\n",
              "      <td>Sulawesi.Selatan.dan.Sulawesi.Barat</td>\n",
              "      <td>2020</td>\n",
              "      <td>3.12</td>\n",
              "      <td>0.28</td>\n",
              "      <td>96475990095</td>\n",
              "      <td>4545728882592</td>\n",
              "      <td>19653526947618</td>\n",
              "      <td>2.12</td>\n",
              "      <td>24830410397906</td>\n",
              "      <td>79.15</td>\n",
              "      <td>7383405548</td>\n",
              "      <td>485262938979</td>\n",
              "      <td>1.52</td>\n",
              "      <td>30.8431</td>\n",
              "      <td>500.964630</td>\n",
              "    </tr>\n",
              "    <tr>\n",
              "      <th>3</th>\n",
              "      <td>Sulawesi.Selatan.dan.Sulawesi.Barat</td>\n",
              "      <td>2021</td>\n",
              "      <td>3.09</td>\n",
              "      <td>0.15</td>\n",
              "      <td>132615330379</td>\n",
              "      <td>4673364835103</td>\n",
              "      <td>21267419581139</td>\n",
              "      <td>2.84</td>\n",
              "      <td>27784972251064</td>\n",
              "      <td>76.54</td>\n",
              "      <td>14234938688</td>\n",
              "      <td>531917397085</td>\n",
              "      <td>2.68</td>\n",
              "      <td>30.9555</td>\n",
              "      <td>143.134535</td>\n",
              "    </tr>\n",
              "    <tr>\n",
              "      <th>4</th>\n",
              "      <td>Jawa.Barat</td>\n",
              "      <td>2018</td>\n",
              "      <td>1.71</td>\n",
              "      <td>0.26</td>\n",
              "      <td>1025468000000</td>\n",
              "      <td>18969885000000</td>\n",
              "      <td>79991787000000</td>\n",
              "      <td>5.41</td>\n",
              "      <td>120191387000000</td>\n",
              "      <td>66.55</td>\n",
              "      <td>110758000000</td>\n",
              "      <td>2160020000000</td>\n",
              "      <td>5.13</td>\n",
              "      <td>32.4201</td>\n",
              "      <td>-0.920277</td>\n",
              "    </tr>\n",
              "  </tbody>\n",
              "</table>\n",
              "</div>\n",
              "      <button class=\"colab-df-convert\" onclick=\"convertToInteractive('df-58a85975-7d16-43cf-8f77-fdb00bebe61d')\"\n",
              "              title=\"Convert this dataframe to an interactive table.\"\n",
              "              style=\"display:none;\">\n",
              "        \n",
              "  <svg xmlns=\"http://www.w3.org/2000/svg\" height=\"24px\"viewBox=\"0 0 24 24\"\n",
              "       width=\"24px\">\n",
              "    <path d=\"M0 0h24v24H0V0z\" fill=\"none\"/>\n",
              "    <path d=\"M18.56 5.44l.94 2.06.94-2.06 2.06-.94-2.06-.94-.94-2.06-.94 2.06-2.06.94zm-11 1L8.5 8.5l.94-2.06 2.06-.94-2.06-.94L8.5 2.5l-.94 2.06-2.06.94zm10 10l.94 2.06.94-2.06 2.06-.94-2.06-.94-.94-2.06-.94 2.06-2.06.94z\"/><path d=\"M17.41 7.96l-1.37-1.37c-.4-.4-.92-.59-1.43-.59-.52 0-1.04.2-1.43.59L10.3 9.45l-7.72 7.72c-.78.78-.78 2.05 0 2.83L4 21.41c.39.39.9.59 1.41.59.51 0 1.02-.2 1.41-.59l7.78-7.78 2.81-2.81c.8-.78.8-2.07 0-2.86zM5.41 20L4 18.59l7.72-7.72 1.47 1.35L5.41 20z\"/>\n",
              "  </svg>\n",
              "      </button>\n",
              "      \n",
              "  <style>\n",
              "    .colab-df-container {\n",
              "      display:flex;\n",
              "      flex-wrap:wrap;\n",
              "      gap: 12px;\n",
              "    }\n",
              "\n",
              "    .colab-df-convert {\n",
              "      background-color: #E8F0FE;\n",
              "      border: none;\n",
              "      border-radius: 50%;\n",
              "      cursor: pointer;\n",
              "      display: none;\n",
              "      fill: #1967D2;\n",
              "      height: 32px;\n",
              "      padding: 0 0 0 0;\n",
              "      width: 32px;\n",
              "    }\n",
              "\n",
              "    .colab-df-convert:hover {\n",
              "      background-color: #E2EBFA;\n",
              "      box-shadow: 0px 1px 2px rgba(60, 64, 67, 0.3), 0px 1px 3px 1px rgba(60, 64, 67, 0.15);\n",
              "      fill: #174EA6;\n",
              "    }\n",
              "\n",
              "    [theme=dark] .colab-df-convert {\n",
              "      background-color: #3B4455;\n",
              "      fill: #D2E3FC;\n",
              "    }\n",
              "\n",
              "    [theme=dark] .colab-df-convert:hover {\n",
              "      background-color: #434B5C;\n",
              "      box-shadow: 0px 1px 3px 1px rgba(0, 0, 0, 0.15);\n",
              "      filter: drop-shadow(0px 1px 2px rgba(0, 0, 0, 0.3));\n",
              "      fill: #FFFFFF;\n",
              "    }\n",
              "  </style>\n",
              "\n",
              "      <script>\n",
              "        const buttonEl =\n",
              "          document.querySelector('#df-58a85975-7d16-43cf-8f77-fdb00bebe61d button.colab-df-convert');\n",
              "        buttonEl.style.display =\n",
              "          google.colab.kernel.accessAllowed ? 'block' : 'none';\n",
              "\n",
              "        async function convertToInteractive(key) {\n",
              "          const element = document.querySelector('#df-58a85975-7d16-43cf-8f77-fdb00bebe61d');\n",
              "          const dataTable =\n",
              "            await google.colab.kernel.invokeFunction('convertToInteractive',\n",
              "                                                     [key], {});\n",
              "          if (!dataTable) return;\n",
              "\n",
              "          const docLinkHtml = 'Like what you see? Visit the ' +\n",
              "            '<a target=\"_blank\" href=https://colab.research.google.com/notebooks/data_table.ipynb>data table notebook</a>'\n",
              "            + ' to learn more about interactive tables.';\n",
              "          element.innerHTML = '';\n",
              "          dataTable['output_type'] = 'display_data';\n",
              "          await google.colab.output.renderOutput(dataTable, element);\n",
              "          const docLink = document.createElement('div');\n",
              "          docLink.innerHTML = docLinkHtml;\n",
              "          element.appendChild(docLink);\n",
              "        }\n",
              "      </script>\n",
              "    </div>\n",
              "  </div>\n",
              "  "
            ]
          },
          "metadata": {},
          "execution_count": 2
        }
      ]
    },
    {
      "cell_type": "code",
      "source": [
        "df.info()"
      ],
      "metadata": {
        "colab": {
          "base_uri": "https://localhost:8080/"
        },
        "id": "LqbRtTv9Uqu-",
        "outputId": "7e972b1a-94e0-4fa9-cc4b-f84a0ff85310"
      },
      "execution_count": 3,
      "outputs": [
        {
          "output_type": "stream",
          "name": "stdout",
          "text": [
            "<class 'pandas.core.frame.DataFrame'>\n",
            "RangeIndex: 104 entries, 0 to 103\n",
            "Data columns (total 15 columns):\n",
            " #   Column                     Non-Null Count  Dtype  \n",
            "---  ------                     --------------  -----  \n",
            " 0   Bank BPD                   104 non-null    object \n",
            " 1   Tahun                      104 non-null    int64  \n",
            " 2   Roa                        104 non-null    float64\n",
            " 3   Risiko                     104 non-null    float64\n",
            " 4   Kredit Masalah Produktif   104 non-null    int64  \n",
            " 5   Total Kredit Produktif     104 non-null    int64  \n",
            " 6   Total Kredit               104 non-null    int64  \n",
            " 7   NPL Produktif              104 non-null    float64\n",
            " 8   Total Aset                 104 non-null    int64  \n",
            " 9   Diversifikasi              104 non-null    float64\n",
            " 10  Beban Training             104 non-null    int64  \n",
            " 11  Beban SDM                  104 non-null    int64  \n",
            " 12  Persentase Beban Training  104 non-null    float64\n",
            " 13  LN Total Aset              104 non-null    float64\n",
            " 14  GDP                        104 non-null    float64\n",
            "dtypes: float64(7), int64(7), object(1)\n",
            "memory usage: 12.3+ KB\n"
          ]
        }
      ]
    },
    {
      "cell_type": "code",
      "source": [
        "df.describe()"
      ],
      "metadata": {
        "colab": {
          "base_uri": "https://localhost:8080/",
          "height": 399
        },
        "id": "5Rl4gALUqb3u",
        "outputId": "823f67ac-1c60-483e-c5ea-b1af337ef2c7"
      },
      "execution_count": 4,
      "outputs": [
        {
          "output_type": "execute_result",
          "data": {
            "text/plain": [
              "             Tahun         Roa      Risiko  Kredit Masalah Produktif  \\\n",
              "count   104.000000  104.000000  104.000000              1.040000e+02   \n",
              "mean   2019.500000    2.074615    0.372981              3.826994e+11   \n",
              "std       1.123448    1.093757    0.482566              3.733283e+11   \n",
              "min    2018.000000   -3.080000    0.030000              1.047808e+10   \n",
              "25%    2018.750000    1.755000    0.160000              5.514799e+10   \n",
              "50%    2019.500000    2.155000    0.300000              3.145542e+11   \n",
              "75%    2020.250000    2.730000    0.422500              5.387278e+11   \n",
              "max    2021.000000    3.870000    4.670000              1.554787e+12   \n",
              "\n",
              "       Total Kredit Produktif  Total Kredit  NPL Produktif    Total Aset  \\\n",
              "count            1.040000e+02  1.040000e+02     104.000000  1.040000e+02   \n",
              "mean             6.284176e+12  1.832056e+13       7.442885  2.861352e+13   \n",
              "std              6.606142e+12  1.848367e+13       7.438599  2.914401e+13   \n",
              "min              1.475305e+11  3.084002e+12       0.420000  5.337281e+12   \n",
              "25%              1.307956e+12  6.857503e+12       3.172500  1.097484e+13   \n",
              "50%              3.848499e+12  1.328041e+13       5.615000  2.151546e+13   \n",
              "75%              8.145425e+12  1.900150e+13       9.017500  2.818776e+13   \n",
              "max              2.732683e+13  1.022319e+14      56.480000  1.583561e+14   \n",
              "\n",
              "       Diversifikasi  Beban Training     Beban SDM  Persentase Beban Training  \\\n",
              "count     104.000000    1.040000e+02  1.040000e+02                 104.000000   \n",
              "mean       65.393462    1.818798e+10  5.783051e+11                   3.346538   \n",
              "std         9.255247    1.738478e+10  5.087182e+11                   1.691112   \n",
              "min        34.850000    8.972211e+08  1.190050e+11                   0.500000   \n",
              "25%        58.840000    6.917092e+09  2.271667e+11                   1.897500   \n",
              "50%        66.445000    1.290867e+10  4.754367e+11                   3.270000   \n",
              "75%        71.465000    2.458243e+10  6.684698e+11                   4.450000   \n",
              "max        82.610000    1.107580e+11  2.922119e+12                   8.550000   \n",
              "\n",
              "       LN Total Aset            GDP  \n",
              "count     104.000000     104.000000  \n",
              "mean       30.640659    1755.285805  \n",
              "std         0.786730   13496.204808  \n",
              "min        29.305700  -16321.000000  \n",
              "25%        30.026600      -0.127750  \n",
              "50%        30.698850       3.575000  \n",
              "75%        30.969925       5.315000  \n",
              "max        32.695900  129307.000000  "
            ],
            "text/html": [
              "\n",
              "  <div id=\"df-0410b4b8-5bc8-474a-af4a-3e70f26856b3\">\n",
              "    <div class=\"colab-df-container\">\n",
              "      <div>\n",
              "<style scoped>\n",
              "    .dataframe tbody tr th:only-of-type {\n",
              "        vertical-align: middle;\n",
              "    }\n",
              "\n",
              "    .dataframe tbody tr th {\n",
              "        vertical-align: top;\n",
              "    }\n",
              "\n",
              "    .dataframe thead th {\n",
              "        text-align: right;\n",
              "    }\n",
              "</style>\n",
              "<table border=\"1\" class=\"dataframe\">\n",
              "  <thead>\n",
              "    <tr style=\"text-align: right;\">\n",
              "      <th></th>\n",
              "      <th>Tahun</th>\n",
              "      <th>Roa</th>\n",
              "      <th>Risiko</th>\n",
              "      <th>Kredit Masalah Produktif</th>\n",
              "      <th>Total Kredit Produktif</th>\n",
              "      <th>Total Kredit</th>\n",
              "      <th>NPL Produktif</th>\n",
              "      <th>Total Aset</th>\n",
              "      <th>Diversifikasi</th>\n",
              "      <th>Beban Training</th>\n",
              "      <th>Beban SDM</th>\n",
              "      <th>Persentase Beban Training</th>\n",
              "      <th>LN Total Aset</th>\n",
              "      <th>GDP</th>\n",
              "    </tr>\n",
              "  </thead>\n",
              "  <tbody>\n",
              "    <tr>\n",
              "      <th>count</th>\n",
              "      <td>104.000000</td>\n",
              "      <td>104.000000</td>\n",
              "      <td>104.000000</td>\n",
              "      <td>1.040000e+02</td>\n",
              "      <td>1.040000e+02</td>\n",
              "      <td>1.040000e+02</td>\n",
              "      <td>104.000000</td>\n",
              "      <td>1.040000e+02</td>\n",
              "      <td>104.000000</td>\n",
              "      <td>1.040000e+02</td>\n",
              "      <td>1.040000e+02</td>\n",
              "      <td>104.000000</td>\n",
              "      <td>104.000000</td>\n",
              "      <td>104.000000</td>\n",
              "    </tr>\n",
              "    <tr>\n",
              "      <th>mean</th>\n",
              "      <td>2019.500000</td>\n",
              "      <td>2.074615</td>\n",
              "      <td>0.372981</td>\n",
              "      <td>3.826994e+11</td>\n",
              "      <td>6.284176e+12</td>\n",
              "      <td>1.832056e+13</td>\n",
              "      <td>7.442885</td>\n",
              "      <td>2.861352e+13</td>\n",
              "      <td>65.393462</td>\n",
              "      <td>1.818798e+10</td>\n",
              "      <td>5.783051e+11</td>\n",
              "      <td>3.346538</td>\n",
              "      <td>30.640659</td>\n",
              "      <td>1755.285805</td>\n",
              "    </tr>\n",
              "    <tr>\n",
              "      <th>std</th>\n",
              "      <td>1.123448</td>\n",
              "      <td>1.093757</td>\n",
              "      <td>0.482566</td>\n",
              "      <td>3.733283e+11</td>\n",
              "      <td>6.606142e+12</td>\n",
              "      <td>1.848367e+13</td>\n",
              "      <td>7.438599</td>\n",
              "      <td>2.914401e+13</td>\n",
              "      <td>9.255247</td>\n",
              "      <td>1.738478e+10</td>\n",
              "      <td>5.087182e+11</td>\n",
              "      <td>1.691112</td>\n",
              "      <td>0.786730</td>\n",
              "      <td>13496.204808</td>\n",
              "    </tr>\n",
              "    <tr>\n",
              "      <th>min</th>\n",
              "      <td>2018.000000</td>\n",
              "      <td>-3.080000</td>\n",
              "      <td>0.030000</td>\n",
              "      <td>1.047808e+10</td>\n",
              "      <td>1.475305e+11</td>\n",
              "      <td>3.084002e+12</td>\n",
              "      <td>0.420000</td>\n",
              "      <td>5.337281e+12</td>\n",
              "      <td>34.850000</td>\n",
              "      <td>8.972211e+08</td>\n",
              "      <td>1.190050e+11</td>\n",
              "      <td>0.500000</td>\n",
              "      <td>29.305700</td>\n",
              "      <td>-16321.000000</td>\n",
              "    </tr>\n",
              "    <tr>\n",
              "      <th>25%</th>\n",
              "      <td>2018.750000</td>\n",
              "      <td>1.755000</td>\n",
              "      <td>0.160000</td>\n",
              "      <td>5.514799e+10</td>\n",
              "      <td>1.307956e+12</td>\n",
              "      <td>6.857503e+12</td>\n",
              "      <td>3.172500</td>\n",
              "      <td>1.097484e+13</td>\n",
              "      <td>58.840000</td>\n",
              "      <td>6.917092e+09</td>\n",
              "      <td>2.271667e+11</td>\n",
              "      <td>1.897500</td>\n",
              "      <td>30.026600</td>\n",
              "      <td>-0.127750</td>\n",
              "    </tr>\n",
              "    <tr>\n",
              "      <th>50%</th>\n",
              "      <td>2019.500000</td>\n",
              "      <td>2.155000</td>\n",
              "      <td>0.300000</td>\n",
              "      <td>3.145542e+11</td>\n",
              "      <td>3.848499e+12</td>\n",
              "      <td>1.328041e+13</td>\n",
              "      <td>5.615000</td>\n",
              "      <td>2.151546e+13</td>\n",
              "      <td>66.445000</td>\n",
              "      <td>1.290867e+10</td>\n",
              "      <td>4.754367e+11</td>\n",
              "      <td>3.270000</td>\n",
              "      <td>30.698850</td>\n",
              "      <td>3.575000</td>\n",
              "    </tr>\n",
              "    <tr>\n",
              "      <th>75%</th>\n",
              "      <td>2020.250000</td>\n",
              "      <td>2.730000</td>\n",
              "      <td>0.422500</td>\n",
              "      <td>5.387278e+11</td>\n",
              "      <td>8.145425e+12</td>\n",
              "      <td>1.900150e+13</td>\n",
              "      <td>9.017500</td>\n",
              "      <td>2.818776e+13</td>\n",
              "      <td>71.465000</td>\n",
              "      <td>2.458243e+10</td>\n",
              "      <td>6.684698e+11</td>\n",
              "      <td>4.450000</td>\n",
              "      <td>30.969925</td>\n",
              "      <td>5.315000</td>\n",
              "    </tr>\n",
              "    <tr>\n",
              "      <th>max</th>\n",
              "      <td>2021.000000</td>\n",
              "      <td>3.870000</td>\n",
              "      <td>4.670000</td>\n",
              "      <td>1.554787e+12</td>\n",
              "      <td>2.732683e+13</td>\n",
              "      <td>1.022319e+14</td>\n",
              "      <td>56.480000</td>\n",
              "      <td>1.583561e+14</td>\n",
              "      <td>82.610000</td>\n",
              "      <td>1.107580e+11</td>\n",
              "      <td>2.922119e+12</td>\n",
              "      <td>8.550000</td>\n",
              "      <td>32.695900</td>\n",
              "      <td>129307.000000</td>\n",
              "    </tr>\n",
              "  </tbody>\n",
              "</table>\n",
              "</div>\n",
              "      <button class=\"colab-df-convert\" onclick=\"convertToInteractive('df-0410b4b8-5bc8-474a-af4a-3e70f26856b3')\"\n",
              "              title=\"Convert this dataframe to an interactive table.\"\n",
              "              style=\"display:none;\">\n",
              "        \n",
              "  <svg xmlns=\"http://www.w3.org/2000/svg\" height=\"24px\"viewBox=\"0 0 24 24\"\n",
              "       width=\"24px\">\n",
              "    <path d=\"M0 0h24v24H0V0z\" fill=\"none\"/>\n",
              "    <path d=\"M18.56 5.44l.94 2.06.94-2.06 2.06-.94-2.06-.94-.94-2.06-.94 2.06-2.06.94zm-11 1L8.5 8.5l.94-2.06 2.06-.94-2.06-.94L8.5 2.5l-.94 2.06-2.06.94zm10 10l.94 2.06.94-2.06 2.06-.94-2.06-.94-.94-2.06-.94 2.06-2.06.94z\"/><path d=\"M17.41 7.96l-1.37-1.37c-.4-.4-.92-.59-1.43-.59-.52 0-1.04.2-1.43.59L10.3 9.45l-7.72 7.72c-.78.78-.78 2.05 0 2.83L4 21.41c.39.39.9.59 1.41.59.51 0 1.02-.2 1.41-.59l7.78-7.78 2.81-2.81c.8-.78.8-2.07 0-2.86zM5.41 20L4 18.59l7.72-7.72 1.47 1.35L5.41 20z\"/>\n",
              "  </svg>\n",
              "      </button>\n",
              "      \n",
              "  <style>\n",
              "    .colab-df-container {\n",
              "      display:flex;\n",
              "      flex-wrap:wrap;\n",
              "      gap: 12px;\n",
              "    }\n",
              "\n",
              "    .colab-df-convert {\n",
              "      background-color: #E8F0FE;\n",
              "      border: none;\n",
              "      border-radius: 50%;\n",
              "      cursor: pointer;\n",
              "      display: none;\n",
              "      fill: #1967D2;\n",
              "      height: 32px;\n",
              "      padding: 0 0 0 0;\n",
              "      width: 32px;\n",
              "    }\n",
              "\n",
              "    .colab-df-convert:hover {\n",
              "      background-color: #E2EBFA;\n",
              "      box-shadow: 0px 1px 2px rgba(60, 64, 67, 0.3), 0px 1px 3px 1px rgba(60, 64, 67, 0.15);\n",
              "      fill: #174EA6;\n",
              "    }\n",
              "\n",
              "    [theme=dark] .colab-df-convert {\n",
              "      background-color: #3B4455;\n",
              "      fill: #D2E3FC;\n",
              "    }\n",
              "\n",
              "    [theme=dark] .colab-df-convert:hover {\n",
              "      background-color: #434B5C;\n",
              "      box-shadow: 0px 1px 3px 1px rgba(0, 0, 0, 0.15);\n",
              "      filter: drop-shadow(0px 1px 2px rgba(0, 0, 0, 0.3));\n",
              "      fill: #FFFFFF;\n",
              "    }\n",
              "  </style>\n",
              "\n",
              "      <script>\n",
              "        const buttonEl =\n",
              "          document.querySelector('#df-0410b4b8-5bc8-474a-af4a-3e70f26856b3 button.colab-df-convert');\n",
              "        buttonEl.style.display =\n",
              "          google.colab.kernel.accessAllowed ? 'block' : 'none';\n",
              "\n",
              "        async function convertToInteractive(key) {\n",
              "          const element = document.querySelector('#df-0410b4b8-5bc8-474a-af4a-3e70f26856b3');\n",
              "          const dataTable =\n",
              "            await google.colab.kernel.invokeFunction('convertToInteractive',\n",
              "                                                     [key], {});\n",
              "          if (!dataTable) return;\n",
              "\n",
              "          const docLinkHtml = 'Like what you see? Visit the ' +\n",
              "            '<a target=\"_blank\" href=https://colab.research.google.com/notebooks/data_table.ipynb>data table notebook</a>'\n",
              "            + ' to learn more about interactive tables.';\n",
              "          element.innerHTML = '';\n",
              "          dataTable['output_type'] = 'display_data';\n",
              "          await google.colab.output.renderOutput(dataTable, element);\n",
              "          const docLink = document.createElement('div');\n",
              "          docLink.innerHTML = docLinkHtml;\n",
              "          element.appendChild(docLink);\n",
              "        }\n",
              "      </script>\n",
              "    </div>\n",
              "  </div>\n",
              "  "
            ]
          },
          "metadata": {},
          "execution_count": 4
        }
      ]
    },
    {
      "cell_type": "markdown",
      "source": [
        "## Variabel Independen (X) dan Variabel Dependen (Y1,Y2,Y3)"
      ],
      "metadata": {
        "id": "mfziXKuO4ZJi"
      }
    },
    {
      "cell_type": "code",
      "source": [
        "selected_cols = ['Diversifikasi', 'Persentase Beban Training', 'LN Total Aset', 'GDP']\n",
        "X = df.loc[:,selected_cols]\n",
        "Y1 = df['Roa']\n",
        "Y2 = df['Risiko']\n",
        "Y3 = df['NPL Produktif']"
      ],
      "metadata": {
        "id": "Wku52f0LU-q4"
      },
      "execution_count": 5,
      "outputs": []
    },
    {
      "cell_type": "markdown",
      "source": [
        "## Korelasi"
      ],
      "metadata": {
        "id": "VCcnlnKz4WGP"
      }
    },
    {
      "cell_type": "code",
      "source": [
        "#untuk mengetahui korelasi linier antar variabel\n",
        "mask = np.triu(np.ones_like(df.corr())) #agar yang muncul segitiga bawah\n",
        "\n",
        "# annot = True untuk mencetak/ menampilkan nilai korelasi di dalam kotak\n",
        "sns.set(rc={'figure.figsize':(13,6)}) \n",
        "sns.heatmap(df.corr(method='pearson').round(3), annot=True, cmap='OrRd', mask=mask)"
      ],
      "metadata": {
        "colab": {
          "base_uri": "https://localhost:8080/",
          "height": 531
        },
        "id": "r7HGXwsK4U1e",
        "outputId": "c19bebcc-f54a-43aa-8017-88cff87a1e2b"
      },
      "execution_count": 6,
      "outputs": [
        {
          "output_type": "execute_result",
          "data": {
            "text/plain": [
              "<matplotlib.axes._subplots.AxesSubplot at 0x7ff9d4f34890>"
            ]
          },
          "metadata": {},
          "execution_count": 6
        },
        {
          "output_type": "display_data",
          "data": {
            "text/plain": [
              "<Figure size 936x432 with 2 Axes>"
            ],
            "image/png": "[encoded data removed]"
          },
          "metadata": {}
        }
      ]
    },
    {
      "cell_type": "markdown",
      "source": [
        "# Kinerja(ROA) Multiple Regression"
      ],
      "metadata": {
        "id": "JKfE5i4K3ZV7"
      }
    },
    {
      "cell_type": "code",
      "source": [
        "df1 = df.copy()"
      ],
      "metadata": {
        "id": "jnX1DVfuR-Sm"
      },
      "execution_count": 7,
      "outputs": []
    },
    {
      "cell_type": "markdown",
      "source": [
        "## Initial"
      ],
      "metadata": {
        "id": "_4OX5lVzswtr"
      }
    },
    {
      "cell_type": "markdown",
      "source": [
        "#### Prepocessing"
      ],
      "metadata": {
        "id": "qPJ9IuJSL0vD"
      }
    },
    {
      "cell_type": "code",
      "source": [
        "# Plot Distribusi Data\n",
        "plt.figure(figsize=(12, 6))\n",
        "plt.title('ROA Distribution Plot')\n",
        "sns.distplot(Y1)"
      ],
      "metadata": {
        "colab": {
          "base_uri": "https://localhost:8080/",
          "height": 427
        },
        "id": "jUqBVhyLu4Wh",
        "outputId": "a8189a6c-94b6-4470-e689-d09fd48d3c55"
      },
      "execution_count": 8,
      "outputs": [
        {
          "output_type": "execute_result",
          "data": {
            "text/plain": [
              "<matplotlib.axes._subplots.AxesSubplot at 0x7ff9d20a5cd0>"
            ]
          },
          "metadata": {},
          "execution_count": 8
        },
        {
          "output_type": "display_data",
          "data": {
            "text/plain": [
              "<Figure size 864x432 with 1 Axes>"
            ],
            "image/png": "[encoded data removed]"
          },
          "metadata": {}
        }
      ]
    },
    {
      "cell_type": "code",
      "source": [
        "plt.figure(figsize=(10,4))\n",
        "sns.boxplot(x=df1['Roa'], color='grey')\n",
        "plt.xlabel('Value')\n",
        "plt.title('Boxplot ROA')\n",
        "plt.show"
      ],
      "metadata": {
        "colab": {
          "base_uri": "https://localhost:8080/",
          "height": 318
        },
        "id": "xfQXmSI7-zAe",
        "outputId": "38e4c427-38f7-4b74-e502-8729409dd190"
      },
      "execution_count": 9,
      "outputs": [
        {
          "output_type": "execute_result",
          "data": {
            "text/plain": [
              "<function matplotlib.pyplot.show>"
            ]
          },
          "metadata": {},
          "execution_count": 9
        },
        {
          "output_type": "display_data",
          "data": {
            "text/plain": [
              "<Figure size 720x288 with 1 Axes>"
            ],
            "image/png": "[encoded data removed]"
          },
          "metadata": {}
        }
      ]
    },
    {
      "cell_type": "markdown",
      "source": [
        "Karena terdapat beberapa outlier pada ROA maka kita akan menghapus outlier tersebut agar model yang nanti digunakan bisa signifikan"
      ],
      "metadata": {
        "id": "jIyWW2pWf2Nl"
      }
    },
    {
      "cell_type": "code",
      "source": [
        "# Remove Outlier\n",
        "# IQR\n",
        "Q1 = np.percentile(df1['Roa'], 25,\n",
        "                   interpolation = 'midpoint')\n",
        " \n",
        "Q3 = np.percentile(df1['Roa'], 75,\n",
        "                   interpolation = 'midpoint')\n",
        "IQR = Q3 - Q1\n",
        " \n",
        "# Upper bound\n",
        "upper = np.where(df1['Roa'] >= (Q3+1.5*IQR))\n",
        "# Lower bound\n",
        "lower = np.where(df1['Roa'] <= (Q1-1.5*IQR))\n",
        " \n",
        "''' Removing the Outliers '''\n",
        "df1.drop(upper[0], inplace = True)\n",
        "df1.drop(lower[0], inplace = True)"
      ],
      "metadata": {
        "id": "2hzaANTzRZdF"
      },
      "execution_count": 10,
      "outputs": []
    },
    {
      "cell_type": "code",
      "source": [
        "plt.figure(figsize=(10,4))\n",
        "sns.boxplot(x=df1['Roa'], color='grey')\n",
        "plt.xlabel('Value')\n",
        "plt.title('Boxplot ROA')\n",
        "plt.show"
      ],
      "metadata": {
        "colab": {
          "base_uri": "https://localhost:8080/",
          "height": 318
        },
        "id": "eBTA3F2lSwKQ",
        "outputId": "313c9a1c-1af5-4e6f-852c-1de64d5ae619"
      },
      "execution_count": 11,
      "outputs": [
        {
          "output_type": "execute_result",
          "data": {
            "text/plain": [
              "<function matplotlib.pyplot.show>"
            ]
          },
          "metadata": {},
          "execution_count": 11
        },
        {
          "output_type": "display_data",
          "data": {
            "text/plain": [
              "<Figure size 720x288 with 1 Axes>"
            ],
            "image/png": "[encoded data removed]"
          },
          "metadata": {}
        }
      ]
    },
    {
      "cell_type": "markdown",
      "source": [
        "Didapatkan tidak terdapat outlier pada data ROA"
      ],
      "metadata": {
        "id": "Lbaf9E91gBQZ"
      }
    },
    {
      "cell_type": "markdown",
      "source": [
        "### Multiple Regression Model"
      ],
      "metadata": {
        "id": "bEiioDIbnAVj"
      }
    },
    {
      "cell_type": "code",
      "source": [
        "#Multiple Regression Model\n",
        "x1 = df1[['Diversifikasi', 'Persentase Beban Training', 'LN Total Aset', 'GDP']]\n",
        "Y1 = df1['Roa']\n",
        "X1 = sm.add_constant(x1)\n",
        "result = sm.OLS(Y1, X1).fit()\n",
        "\n",
        "print(result.summary())"
      ],
      "metadata": {
        "colab": {
          "base_uri": "https://localhost:8080/"
        },
        "id": "NAwoJ27CqpsZ",
        "outputId": "1e2d2db7-a787-44a7-eff3-931ab1626a8a"
      },
      "execution_count": 12,
      "outputs": [
        {
          "output_type": "stream",
          "name": "stdout",
          "text": [
            "                            OLS Regression Results                            \n",
            "==============================================================================\n",
            "Dep. Variable:                    Roa   R-squared:                       0.186\n",
            "Model:                            OLS   Adj. R-squared:                  0.151\n",
            "Method:                 Least Squares   F-statistic:                     5.419\n",
            "Date:                Mon, 25 Jul 2022   Prob (F-statistic):           0.000566\n",
            "Time:                        02:08:15   Log-Likelihood:                -82.768\n",
            "No. Observations:                 100   AIC:                             175.5\n",
            "Df Residuals:                      95   BIC:                             188.6\n",
            "Df Model:                           4                                         \n",
            "Covariance Type:            nonrobust                                         \n",
            "=============================================================================================\n",
            "                                coef    std err          t      P>|t|      [0.025      0.975]\n",
            "---------------------------------------------------------------------------------------------\n",
            "const                        10.6983      2.465      4.341      0.000       5.806      15.591\n",
            "Diversifikasi                 0.0003      0.007      0.042      0.967      -0.013       0.013\n",
            "Persentase Beban Training    -0.0866      0.034     -2.546      0.013      -0.154      -0.019\n",
            "LN Total Aset                -0.2658      0.076     -3.515      0.001      -0.416      -0.116\n",
            "GDP                       -9.461e-06   4.17e-06     -2.271      0.025   -1.77e-05   -1.19e-06\n",
            "==============================================================================\n",
            "Omnibus:                        0.497   Durbin-Watson:                   1.182\n",
            "Prob(Omnibus):                  0.780   Jarque-Bera (JB):                0.638\n",
            "Skew:                           0.060   Prob(JB):                        0.727\n",
            "Kurtosis:                       2.627   Cond. No.                     6.00e+05\n",
            "==============================================================================\n",
            "\n",
            "Warnings:\n",
            "[1] Standard Errors assume that the covariance matrix of the errors is correctly specified.\n",
            "[2] The condition number is large,  6e+05. This might indicate that there are\n",
            "strong multicollinearity or other numerical problems.\n"
          ]
        }
      ]
    },
    {
      "cell_type": "markdown",
      "source": [
        "Variabel independen Diversifikasi memiliki p-value > alpha sehingga variabel tersebut tidak signifikan terhadap variabel ROA(Kinerja), sehingga variabel tersebut harus dihapus dari variabel independen"
      ],
      "metadata": {
        "id": "EkEcQ-iLVpmQ"
      }
    },
    {
      "cell_type": "code",
      "source": [
        "#Multiple Regression Model\n",
        "x1 = df1[['Persentase Beban Training', 'LN Total Aset', 'GDP']]\n",
        "X1 = sm.add_constant(x1)\n",
        "result = sm.OLS(Y1, X1).fit()\n",
        "\n",
        "print(result.summary())"
      ],
      "metadata": {
        "colab": {
          "base_uri": "https://localhost:8080/"
        },
        "id": "LkyHbLzMVo9Z",
        "outputId": "b24f5324-370b-4456-8621-9459021af75e"
      },
      "execution_count": 13,
      "outputs": [
        {
          "output_type": "stream",
          "name": "stdout",
          "text": [
            "                            OLS Regression Results                            \n",
            "==============================================================================\n",
            "Dep. Variable:                    Roa   R-squared:                       0.186\n",
            "Model:                            OLS   Adj. R-squared:                  0.160\n",
            "Method:                 Least Squares   F-statistic:                     7.300\n",
            "Date:                Mon, 25 Jul 2022   Prob (F-statistic):           0.000184\n",
            "Time:                        02:08:15   Log-Likelihood:                -82.768\n",
            "No. Observations:                 100   AIC:                             173.5\n",
            "Df Residuals:                      96   BIC:                             184.0\n",
            "Df Model:                           3                                         \n",
            "Covariance Type:            nonrobust                                         \n",
            "=============================================================================================\n",
            "                                coef    std err          t      P>|t|      [0.025      0.975]\n",
            "---------------------------------------------------------------------------------------------\n",
            "const                        10.7356      2.284      4.701      0.000       6.202      15.269\n",
            "Persentase Beban Training    -0.0868      0.033     -2.595      0.011      -0.153      -0.020\n",
            "LN Total Aset                -0.2664      0.074     -3.609      0.000      -0.413      -0.120\n",
            "GDP                       -9.452e-06   4.14e-06     -2.283      0.025   -1.77e-05   -1.24e-06\n",
            "==============================================================================\n",
            "Omnibus:                        0.504   Durbin-Watson:                   1.182\n",
            "Prob(Omnibus):                  0.777   Jarque-Bera (JB):                0.643\n",
            "Skew:                           0.061   Prob(JB):                        0.725\n",
            "Kurtosis:                       2.627   Cond. No.                     5.59e+05\n",
            "==============================================================================\n",
            "\n",
            "Warnings:\n",
            "[1] Standard Errors assume that the covariance matrix of the errors is correctly specified.\n",
            "[2] The condition number is large, 5.59e+05. This might indicate that there are\n",
            "strong multicollinearity or other numerical problems.\n"
          ]
        }
      ]
    },
    {
      "cell_type": "markdown",
      "source": [
        "R² berkisar antara 0 dan 1, di mana R²=0 berarti tidak ada hubungan linier antara variabel dan R²=1 menunjukkan hubungan linier yang sempurna. Dalam kasus ini, kita mendapat skor R² sekitar 0.186 yang berarti 18.6% dari variabel dependen dapat dijelaskan menggunakan variabel independen."
      ],
      "metadata": {
        "id": "VkUaBDP4e88D"
      }
    },
    {
      "cell_type": "code",
      "source": [
        "#F-Test (ANOVA)\n",
        "print('F-statistic:', result.fvalue)\n",
        "print('Probability of observing value at least as high as F-statistic:', result.f_pvalue)"
      ],
      "metadata": {
        "colab": {
          "base_uri": "https://localhost:8080/"
        },
        "id": "iahKguUwfSiE",
        "outputId": "3d55d137-e610-4873-d1a0-b94301783517"
      },
      "execution_count": 14,
      "outputs": [
        {
          "output_type": "stream",
          "name": "stdout",
          "text": [
            "F-statistic: 7.300350568341403\n",
            "Probability of observing value at least as high as F-statistic: 0.00018423188010704112\n"
          ]
        }
      ]
    },
    {
      "cell_type": "markdown",
      "source": [
        "Karena f_pvalue yang didapat lebih rendah dari 0.05 yaitu 0.00018, kita dapat menyimpulkan bahwa model ini berkinerja lebih baik daripada model lain yang lebih sederhana."
      ],
      "metadata": {
        "id": "Hxn0PJO8fksc"
      }
    },
    {
      "cell_type": "markdown",
      "source": [
        "#### Multiple Linear Regression Equation"
      ],
      "metadata": {
        "id": "j8nEPg8mnHWz"
      }
    },
    {
      "cell_type": "markdown",
      "source": [
        "$\\hat{Y} = 10.7356 - 0.0868 X_1 - 0.2664 X_2 - 9.45\\times10^{-6} X_3$\n",
        "\n",
        "Atau\n",
        "\n",
        "$\\hat{Y}$ = 10.7356 - 0.0868 Persentase Beban Training - 0.2664 LN Total Aset - 9.45$\\times10^{-6}$ GDP"
      ],
      "metadata": {
        "id": "8wORfh0PnRNh"
      }
    },
    {
      "cell_type": "markdown",
      "source": [
        "Nilai intersep adalah perkiraan nilai rata-rata variabel dependen kita ketika semua nilai variabel independen kita adalah 0. Dalam kasus ini berarti bahwa persentase beban training bernilai 0 persen, nilai LN total aset bernilai 0 dan GPD suatu provinsi bernilai 0 maka nilai ROA dari suatu Bank BPD sekitar 10.7356\n",
        "\n",
        "Untuk koefisien kami memiliki 3 nilai untuk variabel persentase beban training, LN total aset, dan GDP. Nilai ini mewakili hubungan variabel independen kita dengan variabel dependen, di mana perubahan tepat 1 pada variabel independen akan mengubah nilai variabel dependen dengan jumlah yang sama dengan koefisien. Misalnya, jika persentase beban training meningkat 10 persen makan akan menurunkan nilai ROA sekitar 0.868."
      ],
      "metadata": {
        "id": "_MpXS-7xws2v"
      }
    },
    {
      "cell_type": "markdown",
      "source": [
        "### Multiple Linear Regression Assumptions"
      ],
      "metadata": {
        "id": "Vy4XOkN0WGvS"
      }
    },
    {
      "cell_type": "markdown",
      "source": [
        "#### Autocorrelation in Residual\n",
        "\n",
        "H0: Tidak ada autokorelasi \n",
        "\n",
        "H1: Ada autokorelasi"
      ],
      "metadata": {
        "id": "e4128g4VYGqm"
      }
    },
    {
      "cell_type": "code",
      "source": [
        "# residuals model regresi linier berganda\n",
        "err = result.resid"
      ],
      "metadata": {
        "id": "O7Cz4ZYsYS8e"
      },
      "execution_count": 15,
      "outputs": []
    },
    {
      "cell_type": "code",
      "source": [
        "## membuat plot residuals vs time order\n",
        "# membuat list time order\n",
        "time=list(range(1,100+1)) #karena terdapat 100 data\n",
        "\n",
        "plt.scatter(x=time, y=err)\n",
        "plt.xlabel('time order', fontsize=12)\n",
        "plt.ylabel('residuals', fontsize=12)\n",
        "plt.show()"
      ],
      "metadata": {
        "colab": {
          "base_uri": "https://localhost:8080/",
          "height": 394
        },
        "id": "dACzx0lBYppt",
        "outputId": "63909d40-7bfa-4e20-807c-6da9cf88c6e6"
      },
      "execution_count": 16,
      "outputs": [
        {
          "output_type": "display_data",
          "data": {
            "text/plain": [
              "<Figure size 936x432 with 1 Axes>"
            ],
            "image/png": "[encoded data removed]"
          },
          "metadata": {}
        }
      ]
    },
    {
      "cell_type": "code",
      "source": [
        "import statsmodels.tsa.api as smt\n",
        "acf = smt.graphics.plot_acf(err, lags=10 , alpha=0.05)\n",
        "acf.show()"
      ],
      "metadata": {
        "colab": {
          "base_uri": "https://localhost:8080/",
          "height": 393
        },
        "id": "t-Qvkm4ldHpH",
        "outputId": "299bcf4d-daa0-4525-8af0-9cfaff5ac446"
      },
      "execution_count": 17,
      "outputs": [
        {
          "output_type": "display_data",
          "data": {
            "text/plain": [
              "<Figure size 936x432 with 1 Axes>"
            ],
            "image/png": "[encoded data removed]"
          },
          "metadata": {}
        }
      ]
    },
    {
      "cell_type": "markdown",
      "source": [
        "Pada Lag 1 terlihat bahwa data tersebut melebihi area sehingga mengindikasikan terdapat autokorelasi positif dalam residual"
      ],
      "metadata": {
        "id": "7N0-EebUY7Cp"
      }
    },
    {
      "cell_type": "markdown",
      "source": [
        "Menentukan daerah kritis\n",
        "\n",
        "Tolak H0: jika 0 < DW < dl  atau 4 – dl < DW < 4\n",
        "\n",
        "Gagal tolak H0: jika du < DW <4 – du\n",
        "\n",
        "Tidak ada keputusan : jika dl < DW < du atau 4 – du < DW < 4 – dl"
      ],
      "metadata": {
        "id": "ZDyoQ-fCY7Vy"
      }
    },
    {
      "cell_type": "markdown",
      "source": [
        "Statistik uji\n",
        "\n",
        "Karena nilai DW  1.182 dengan 0 < DW < dl atau 0 < 1.182 < 1.613 sehingga dapat dikatakan bahwa Tolak H0.  "
      ],
      "metadata": {
        "id": "FPxJZq_1ZAPN"
      }
    },
    {
      "cell_type": "markdown",
      "source": [
        "Jadi, dengan tingkat signifikansi 5% dapat disimpulkan bahwa keputusan uji adalah terdapat Autokorelasi."
      ],
      "metadata": {
        "id": "liGi2BBNZBB_"
      }
    },
    {
      "cell_type": "markdown",
      "source": [
        "#### Normality in Residual"
      ],
      "metadata": {
        "id": "K8VlIc6nWYCH"
      }
    },
    {
      "cell_type": "code",
      "source": [
        "# membuat histogram\n",
        "sns.distplot(err, hist=True, kde=True, \n",
        "             color = 'darkblue', \n",
        "             hist_kws={'edgecolor':'white'},\n",
        "             kde_kws={'linewidth': 3})"
      ],
      "metadata": {
        "colab": {
          "base_uri": "https://localhost:8080/",
          "height": 394
        },
        "id": "5bXm20pH9EXQ",
        "outputId": "76a70800-2df9-43bf-d56d-1d4899eb10fd"
      },
      "execution_count": 18,
      "outputs": [
        {
          "output_type": "execute_result",
          "data": {
            "text/plain": [
              "<matplotlib.axes._subplots.AxesSubplot at 0x7ff9d05f6050>"
            ]
          },
          "metadata": {},
          "execution_count": 18
        },
        {
          "output_type": "display_data",
          "data": {
            "text/plain": [
              "<Figure size 936x432 with 1 Axes>"
            ],
            "image/png": "[encoded data removed]"
          },
          "metadata": {}
        }
      ]
    },
    {
      "cell_type": "code",
      "source": [
        "# membuat q-q plot\n",
        "stats.probplot(err, dist=\"norm\", plot=pylab)\n",
        "pylab.show()"
      ],
      "metadata": {
        "colab": {
          "base_uri": "https://localhost:8080/",
          "height": 410
        },
        "id": "RWXHpiFX8nSL",
        "outputId": "bea2d798-e959-4772-f534-298a2b17b5cb"
      },
      "execution_count": 19,
      "outputs": [
        {
          "output_type": "display_data",
          "data": {
            "text/plain": [
              "<Figure size 936x432 with 1 Axes>"
            ],
            "image/png": "[encoded data removed]"
          },
          "metadata": {}
        }
      ]
    },
    {
      "cell_type": "markdown",
      "source": [
        "Secara visual, data residual dikatakan berdistribusi normal apabila menyentuh atau mendekati garis. Jadi, data tersebut berdistribusi normal karena banyak data yang mendekati garis."
      ],
      "metadata": {
        "id": "KuUBeqRwhne5"
      }
    },
    {
      "cell_type": "code",
      "source": [
        "# uji normalitas dengan kolmogorov-smirnov test\n",
        "ks = kstest(err,'norm')\n",
        "print('Statistic KS:', ks.statistic.round(4))\n",
        "print('P-value:', ks.pvalue.round(4))\n",
        "\n",
        "# interpret\n",
        "alpha = 0.05\n",
        "if ks.pvalue > alpha:\n",
        "\tprint('Data Berdistribusi Normal (Gagal Tolak H0)')\n",
        "else:\n",
        "\tprint('Data Tidak Berdistribusi Normal (Tolak H0)')"
      ],
      "metadata": {
        "colab": {
          "base_uri": "https://localhost:8080/"
        },
        "id": "GvpJmCve9AJg",
        "outputId": "55470b6a-2869-49f9-851c-95bfd6972de4"
      },
      "execution_count": 20,
      "outputs": [
        {
          "output_type": "stream",
          "name": "stdout",
          "text": [
            "Statistic KS: 0.1579\n",
            "P-value: 0.0121\n",
            "Data Tidak Berdistribusi Normal (Tolak H0)\n"
          ]
        }
      ]
    },
    {
      "cell_type": "code",
      "source": [
        "# uji normalitas dengan shapiro wilk test\n",
        "stat, p = shapiro(err)\n",
        "print('Statistics=%.3f, p=%.3f' % (stat, p))\n",
        "# interpret\n",
        "alpha = 0.05\n",
        "if p > alpha:\n",
        "  print('Data Berdistribusi Normal (Gagal Tolak H0)')\n",
        "else:\n",
        "  print('Data Tidak Berdistribusi Normal (Tolak H0)')"
      ],
      "metadata": {
        "colab": {
          "base_uri": "https://localhost:8080/"
        },
        "id": "rELDpp_tUE5E",
        "outputId": "abca6f5e-b31b-4adf-a483-5b2bd0511d1f"
      },
      "execution_count": 21,
      "outputs": [
        {
          "output_type": "stream",
          "name": "stdout",
          "text": [
            "Statistics=0.995, p=0.985\n",
            "Data Berdistribusi Normal (Gagal Tolak H0)\n"
          ]
        }
      ]
    },
    {
      "cell_type": "markdown",
      "source": [
        "Jadi, data disimpulkan bahwa residual tersebut berdistribusi normal dengan tingkat signifikansi sebesar 5%"
      ],
      "metadata": {
        "id": "nNBnKbyTziUx"
      }
    },
    {
      "cell_type": "markdown",
      "source": [
        "#### Homoskedasticity in Residual\n",
        "\n",
        "H0: Variansi error konstan (homoskedastatis)\n",
        "\n",
        "H1: Variansi error tidak konstan (heteroskedastatis)"
      ],
      "metadata": {
        "id": "anYX3BRVh3D4"
      }
    },
    {
      "cell_type": "code",
      "source": [
        "df1.rename(columns = {'Persentase Beban Training':'Persentase_Beban_Training', 'LN Total Aset':'LN_Total_Aset'}\n",
        "           , inplace = True)\n",
        "import statsmodels.formula.api as smf\n",
        "lm =smf.ols(formula=\"Roa~Persentase_Beban_Training+LN_Total_Aset+GDP\",data=df1).fit()\n",
        "resid=lm.resid\n",
        "plt.scatter(lm.predict(),resid)"
      ],
      "metadata": {
        "colab": {
          "base_uri": "https://localhost:8080/",
          "height": 394
        },
        "id": "SuqUvlVmkMUC",
        "outputId": "bc0078da-5e3e-4134-e36a-e75f44ab5b11"
      },
      "execution_count": 22,
      "outputs": [
        {
          "output_type": "execute_result",
          "data": {
            "text/plain": [
              "<matplotlib.collections.PathCollection at 0x7ff9d20a5890>"
            ]
          },
          "metadata": {},
          "execution_count": 22
        },
        {
          "output_type": "display_data",
          "data": {
            "text/plain": [
              "<Figure size 936x432 with 1 Axes>"
            ],
            "image/png": "[encoded data removed]"
          },
          "metadata": {}
        }
      ]
    },
    {
      "cell_type": "code",
      "source": [
        "keys = ['Lagrange Multiplier statistic:', 'LM test\\'s p-value:', 'F-statistic:', 'F-test\\'s p-value:']\n",
        "results = het_white(err, lm.model.exog, retres=False)\n",
        "lzip(keys, results)"
      ],
      "metadata": {
        "colab": {
          "base_uri": "https://localhost:8080/"
        },
        "id": "VZhca5afiCf_",
        "outputId": "59332e87-8551-4521-df93-20df0ca4df9f"
      },
      "execution_count": 23,
      "outputs": [
        {
          "output_type": "execute_result",
          "data": {
            "text/plain": [
              "[('Lagrange Multiplier statistic:', 9.195245682254615),\n",
              " (\"LM test's p-value:\", 0.41945014471382236),\n",
              " ('F-statistic:', 1.0126392336329082),\n",
              " (\"F-test's p-value:\", 0.43608895838118733)]"
            ]
          },
          "metadata": {},
          "execution_count": 23
        }
      ]
    },
    {
      "cell_type": "markdown",
      "source": [
        "Tes LM: Statistik tes LM mengikuti distribusi Chi-kuadrat dengan derajat kebebasan = DF model - 1 = (4-1) = 3. Nilai p (0.419) sangat tinggi. Jadi kami menerima hipotesis nol dari tes bahwa tidak ada heterokedastatis dalam kesalahan residual.\n",
        "\n",
        "Uji-F: Statistik uji-F mengikuti distribusi-F. Sekali lagi, nilai p yang tinggi sebesar 0.436 menegaskan hipotesis nol dari tes bahwa tidak ada heterokedastatis dalam kesalahan residual.\n",
        "\n",
        "Secara keseluruhan, kami menyimpulkan bahwa kesalahan residual bersifat homoskedastik."
      ],
      "metadata": {
        "id": "y76lrxFTlVZH"
      }
    },
    {
      "cell_type": "markdown",
      "source": [
        "#### Linearity between Y(ROA) and X('Persentase Beban Training', 'LN Total Aset', 'GDP')"
      ],
      "metadata": {
        "id": "pfA6-2pDWqGE"
      }
    },
    {
      "cell_type": "code",
      "source": [
        "#untuk membuat scatter plot antara variabel respons dan variabel prediktor\n",
        "plt.figure(figsize=(20, 5))\n",
        "\n",
        "predictors = ['Persentase_Beban_Training', 'LN_Total_Aset', 'GDP']\n",
        "response = df1['Roa']\n",
        "\n",
        "for i, col in enumerate(predictors):\n",
        "    plt.subplot(1, len(predictors) , i+1)\n",
        "    x = df1[col]\n",
        "    y = response\n",
        "    plt.scatter(x, y, marker='o', color='darkblue')\n",
        "    plt.title(col)\n",
        "    plt.xlabel(col)\n",
        "    plt.ylabel('ROA')\n",
        "\n",
        "#jika ingin membuat plot semua variabel\n",
        "#sns.pairplot(df)\n",
        "#plt.show()"
      ],
      "metadata": {
        "colab": {
          "base_uri": "https://localhost:8080/",
          "height": 288
        },
        "id": "1wQwUA8kxaLT",
        "outputId": "771eeedb-27c6-4a60-8599-e78126f1b648"
      },
      "execution_count": 24,
      "outputs": [
        {
          "output_type": "display_data",
          "data": {
            "text/plain": [
              "<Figure size 1440x360 with 3 Axes>"
            ],
            "image/png": "[encoded data removed]"
          },
          "metadata": {}
        }
      ]
    },
    {
      "cell_type": "markdown",
      "source": [
        "##### Linear Relationship between X(Persentase Beban Training) and Y(ROA)"
      ],
      "metadata": {
        "id": "6k8YysNyXxgi"
      }
    },
    {
      "cell_type": "code",
      "source": [
        "# menghitung nilai korelasi X dan Y\n",
        "corr, _ = pearsonr(df1['Persentase_Beban_Training'], df1['Roa'])\n",
        "print('Pearsons correlation: %.4f' % corr)"
      ],
      "metadata": {
        "colab": {
          "base_uri": "https://localhost:8080/"
        },
        "id": "zrRHu5GJX1l3",
        "outputId": "858b1036-cb2e-48c3-d38e-694c9336c2b8"
      },
      "execution_count": 25,
      "outputs": [
        {
          "output_type": "stream",
          "name": "stdout",
          "text": [
            "Pearsons correlation: -0.1793\n"
          ]
        }
      ]
    },
    {
      "cell_type": "markdown",
      "source": [
        "Didapatkan nilai koefisien korelasi antara Persentase Beban Training dengan ROA dari metode pearsons sebesar -0.1793 karena bernilai negatif maka garis linier dari kiri semakin turun ke kanan dengan kata lain jika nilai Persentase Beban Training semakin meningkat maka nilai risiko semakin menurun dan sebaliknya"
      ],
      "metadata": {
        "id": "y0o2B2acxqVo"
      }
    },
    {
      "cell_type": "markdown",
      "source": [
        "##### Linear Relationship between X(LN Total Aset) and Y(ROA)"
      ],
      "metadata": {
        "id": "rjV7LyLoX153"
      }
    },
    {
      "cell_type": "code",
      "source": [
        "# menghitung nilai korelasi X dan Y\n",
        "corr, _ = pearsonr(df1['LN_Total_Aset'], df1['Roa'])\n",
        "print('Pearsons correlation: %.4f' % corr)"
      ],
      "metadata": {
        "colab": {
          "base_uri": "https://localhost:8080/"
        },
        "id": "5buzdPQqX_Bc",
        "outputId": "16bbbdbd-d602-41a0-ec9f-fc21e38a74cb"
      },
      "execution_count": 26,
      "outputs": [
        {
          "output_type": "stream",
          "name": "stdout",
          "text": [
            "Pearsons correlation: -0.3029\n"
          ]
        }
      ]
    },
    {
      "cell_type": "markdown",
      "source": [
        "Didapatkan nilai koefisien korelasi antara LN Total Aset dengan ROA dari metode pearsons sebesar -0.3029 karena bernilai negatif maka garis linier dari kiri semakin turun ke kanan dengan kata lain jika nilai LN Total Aset semakin meningkat maka nilai ROA semakin menurun dan sebaliknya"
      ],
      "metadata": {
        "id": "gM_SvD1fx-YV"
      }
    },
    {
      "cell_type": "markdown",
      "source": [
        "##### Linear Relationship between X(GDP) and Y(ROA)"
      ],
      "metadata": {
        "id": "Vi-YpbmBX49h"
      }
    },
    {
      "cell_type": "code",
      "source": [
        "# menghitung nilai korelasi X dan Y\n",
        "corr, _ = pearsonr(df1['GDP'], df1['Roa'])\n",
        "print('Pearsons correlation: %.4f' % corr)"
      ],
      "metadata": {
        "colab": {
          "base_uri": "https://localhost:8080/"
        },
        "id": "3xY19jfeYAJy",
        "outputId": "9a05e0a7-c768-421b-d7b9-fdb708c27c68"
      },
      "execution_count": 27,
      "outputs": [
        {
          "output_type": "stream",
          "name": "stdout",
          "text": [
            "Pearsons correlation: -0.1930\n"
          ]
        }
      ]
    },
    {
      "cell_type": "markdown",
      "source": [
        "Didapatkan nilai koefisien korelasi antara GDP dengan ROA dari metode pearsons sebesar -0.193 karena bernilai negatif maka garis linier dari kiri semakin turun ke kanan dengan kata lain jika nilai GDP suatu provinsi semakin meningkat maka nilai ROA semakin menurun dan sebaliknya"
      ],
      "metadata": {
        "id": "V0JRUWVmyF5C"
      }
    },
    {
      "cell_type": "markdown",
      "source": [
        "#### Multicollinearity in Independen Variabel\n",
        "\n",
        "VIF score of an independent variable represents how well the variable is explained by other independent variables.\n",
        "\n",
        "* VIF starts at 1 and has no upper limit\n",
        "* VIF = 1, no correlation between the independent variable and the other variables\n",
        "* VIF exceeding 10 indicates high multicollinearity between this independent variable and the others\n",
        "\n",
        "Hipotesis\n",
        "\n",
        "H0: VIF < 10 artinya tidak terdapat Multikolinearitas.\n",
        "\n",
        "H1: VIF > 10 artinya terdapat Multikolinearitas."
      ],
      "metadata": {
        "id": "j0pJ0PJNl08I"
      }
    },
    {
      "cell_type": "code",
      "source": [
        "# VIF dataframe\n",
        "vif_data = pd.DataFrame()\n",
        "vif_data[\"feature\"] = x1.columns\n",
        "  \n",
        "# calculating VIF for each feature\n",
        "vif_data[\"VIF\"] = [variance_inflation_factor(x1.values, i)\n",
        "                          for i in range(len(x1.columns))]\n",
        "  \n",
        "print(vif_data)"
      ],
      "metadata": {
        "colab": {
          "base_uri": "https://localhost:8080/"
        },
        "id": "XnftmdYomAuZ",
        "outputId": "8cf3f682-2178-462d-ccb2-d34ae060bed1"
      },
      "execution_count": 28,
      "outputs": [
        {
          "output_type": "stream",
          "name": "stdout",
          "text": [
            "                     feature       VIF\n",
            "0  Persentase Beban Training  4.775174\n",
            "1              LN Total Aset  4.827141\n",
            "2                        GDP  1.023876\n"
          ]
        }
      ]
    },
    {
      "cell_type": "markdown",
      "source": [
        "Kesimpulan:\n",
        "\n",
        "Karena VIF kedua variabel independen < 10, maka tidak ada kasus multikolinieritas. \n",
        "\n",
        "Catatan tambahan:\n",
        "Apabila di kasus lain terjadi multikolinieritas pada variabel independennya, maka hapus satu per satu variabel yang memiliki VIF paling tinggi."
      ],
      "metadata": {
        "id": "D49lfdD-mSe9"
      }
    },
    {
      "cell_type": "markdown",
      "source": [
        "## Scale"
      ],
      "metadata": {
        "id": "6BqHoN3zsoLv"
      }
    },
    {
      "cell_type": "code",
      "source": [
        "#MinMaxScaling\n",
        "df_sc = df.copy()\n",
        "sc = MinMaxScaler((-1,1))\n",
        "X_sc = sc.fit_transform(X)"
      ],
      "metadata": {
        "id": "pW40DKCHsmq6"
      },
      "execution_count": 97,
      "outputs": []
    },
    {
      "cell_type": "code",
      "source": [
        "#Multiple Regression Model\n",
        "Y1_sc = df_sc['Roa']\n",
        "X1_sc = sm.add_constant(X_sc)\n",
        "result = sm.OLS(Y1_sc, X1_sc).fit()\n",
        "\n",
        "print(result.summary())"
      ],
      "metadata": {
        "id": "4biRER9Ls8Km",
        "colab": {
          "base_uri": "https://localhost:8080/"
        },
        "outputId": "47eb5bca-c879-4b9b-e45b-0e3576899eab"
      },
      "execution_count": 98,
      "outputs": [
        {
          "output_type": "stream",
          "name": "stdout",
          "text": [
            "                            OLS Regression Results                            \n",
            "==============================================================================\n",
            "Dep. Variable:                    Roa   R-squared:                       0.056\n",
            "Model:                            OLS   Adj. R-squared:                  0.018\n",
            "Method:                 Least Squares   F-statistic:                     1.466\n",
            "Date:                Mon, 25 Jul 2022   Prob (F-statistic):              0.218\n",
            "Time:                        04:31:17   Log-Likelihood:                -153.39\n",
            "No. Observations:                 104   AIC:                             316.8\n",
            "Df Residuals:                      99   BIC:                             330.0\n",
            "Df Model:                           4                                         \n",
            "Covariance Type:            nonrobust                                         \n",
            "==============================================================================\n",
            "                 coef    std err          t      P>|t|      [0.025      0.975]\n",
            "------------------------------------------------------------------------------\n",
            "const          1.4307      0.471      3.039      0.003       0.497       2.365\n",
            "x1             0.5469      0.280      1.950      0.054      -0.010       1.103\n",
            "x2            -0.2050      0.259     -0.790      0.431      -0.719       0.310\n",
            "x3             0.1393      0.235      0.594      0.554      -0.326       0.605\n",
            "x4            -0.6131      0.579     -1.059      0.292      -1.762       0.536\n",
            "==============================================================================\n",
            "Omnibus:                       75.753   Durbin-Watson:                   0.657\n",
            "Prob(Omnibus):                  0.000   Jarque-Bera (JB):              438.135\n",
            "Skew:                          -2.447   Prob(JB):                     7.25e-96\n",
            "Kurtosis:                      11.783   Cond. No.                         9.33\n",
            "==============================================================================\n",
            "\n",
            "Warnings:\n",
            "[1] Standard Errors assume that the covariance matrix of the errors is correctly specified.\n"
          ]
        }
      ]
    },
    {
      "cell_type": "markdown",
      "source": [
        "# Risiko Multiple Regression"
      ],
      "metadata": {
        "id": "r40dN_O_3hDb"
      }
    },
    {
      "cell_type": "code",
      "source": [
        "df2 = df.copy()"
      ],
      "metadata": {
        "id": "U1ND3Zrg_I-U"
      },
      "execution_count": 30,
      "outputs": []
    },
    {
      "cell_type": "markdown",
      "source": [
        "## Initial"
      ],
      "metadata": {
        "id": "WG69PD8r_DlQ"
      }
    },
    {
      "cell_type": "markdown",
      "source": [
        "#### Prepocessing"
      ],
      "metadata": {
        "id": "U_49UKZWL5z_"
      }
    },
    {
      "cell_type": "code",
      "source": [
        "# Plot Distribusi Data\n",
        "plt.figure(figsize=(12, 6))\n",
        "plt.title('Risiko Distribution Plot')\n",
        "sns.distplot(Y2)"
      ],
      "metadata": {
        "colab": {
          "base_uri": "https://localhost:8080/",
          "height": 427
        },
        "outputId": "abb82126-0a03-45e0-d831-e15e08e63541",
        "id": "Nb5bunjn_DlQ"
      },
      "execution_count": 31,
      "outputs": [
        {
          "output_type": "execute_result",
          "data": {
            "text/plain": [
              "<matplotlib.axes._subplots.AxesSubplot at 0x7ff9d04d8850>"
            ]
          },
          "metadata": {},
          "execution_count": 31
        },
        {
          "output_type": "display_data",
          "data": {
            "text/plain": [
              "<Figure size 864x432 with 1 Axes>"
            ],
            "image/png": "[encoded data removed]"
          },
          "metadata": {}
        }
      ]
    },
    {
      "cell_type": "code",
      "source": [
        "plt.figure(figsize=(10,4))\n",
        "sns.boxplot(x=df2['Risiko'], color='grey')\n",
        "plt.xlabel('Value')\n",
        "plt.title('Boxplot Risiko')\n",
        "plt.show"
      ],
      "metadata": {
        "colab": {
          "base_uri": "https://localhost:8080/",
          "height": 318
        },
        "outputId": "91712b08-0259-4299-8e05-a7212f9f459d",
        "id": "y0xEUTu2_DlR"
      },
      "execution_count": 32,
      "outputs": [
        {
          "output_type": "execute_result",
          "data": {
            "text/plain": [
              "<function matplotlib.pyplot.show>"
            ]
          },
          "metadata": {},
          "execution_count": 32
        },
        {
          "output_type": "display_data",
          "data": {
            "text/plain": [
              "<Figure size 720x288 with 1 Axes>"
            ],
            "image/png": "[encoded data removed]"
          },
          "metadata": {}
        }
      ]
    },
    {
      "cell_type": "markdown",
      "source": [
        "Karena terdapat beberapa outlier pada Risiko maka kita akan menghapus outlier tersebut agar model yang nanti digunakan bisa signifikan"
      ],
      "metadata": {
        "id": "-vNSz7Q9_DlR"
      }
    },
    {
      "cell_type": "code",
      "source": [
        "# Remove Outlier\n",
        "# IQR\n",
        "Q1 = np.percentile(df2['Risiko'], 25,\n",
        "                   interpolation = 'midpoint')\n",
        " \n",
        "Q3 = np.percentile(df2['Risiko'], 75,\n",
        "                   interpolation = 'midpoint')\n",
        "IQR = Q3 - Q1\n",
        " \n",
        "# Upper bound\n",
        "upper = np.where(df2['Risiko'] >= (Q3+1.5*IQR))\n",
        "# Lower bound\n",
        "lower = np.where(df2['Risiko'] <= (Q1-1.5*IQR))\n",
        " \n",
        "''' Removing the Outliers '''\n",
        "df2.drop(upper[0], inplace = True)\n",
        "df2.drop(lower[0], inplace = True)"
      ],
      "metadata": {
        "id": "XnzMjFK9_DlS"
      },
      "execution_count": 33,
      "outputs": []
    },
    {
      "cell_type": "code",
      "source": [
        "plt.figure(figsize=(10,4))\n",
        "sns.boxplot(x=df2['Risiko'], color='grey')\n",
        "plt.xlabel('Value')\n",
        "plt.title('Boxplot Risiko')\n",
        "plt.show"
      ],
      "metadata": {
        "colab": {
          "base_uri": "https://localhost:8080/",
          "height": 318
        },
        "outputId": "01f0fb90-e9e3-4c5d-9802-815c745086b5",
        "id": "T3dYhRWY_DlS"
      },
      "execution_count": 34,
      "outputs": [
        {
          "output_type": "execute_result",
          "data": {
            "text/plain": [
              "<function matplotlib.pyplot.show>"
            ]
          },
          "metadata": {},
          "execution_count": 34
        },
        {
          "output_type": "display_data",
          "data": {
            "text/plain": [
              "<Figure size 720x288 with 1 Axes>"
            ],
            "image/png": "[encoded data removed]"
          },
          "metadata": {}
        }
      ]
    },
    {
      "cell_type": "code",
      "source": [
        "# Remove Outlier\n",
        "# IQR\n",
        "Q1 = np.percentile(df2['Risiko'], 25,\n",
        "                   interpolation = 'midpoint')\n",
        " \n",
        "Q3 = np.percentile(df2['Risiko'], 75,\n",
        "                   interpolation = 'midpoint')\n",
        "IQR = Q3 - Q1\n",
        " \n",
        "# Upper bound\n",
        "upper = np.where(df2['Risiko'] >= (Q3+1.5*IQR))\n",
        "# Lower bound\n",
        "lower = np.where(df2['Risiko'] <= (Q1-1.5*IQR))\n",
        " \n",
        "''' Removing the Outliers '''\n",
        "df2.drop(upper[0], inplace = True)\n",
        "df2.drop(lower[0], inplace = True)"
      ],
      "metadata": {
        "id": "545mo4oBHUNR"
      },
      "execution_count": 40,
      "outputs": []
    },
    {
      "cell_type": "code",
      "source": [
        "plt.figure(figsize=(10,4))\n",
        "sns.boxplot(x=df2['Risiko'], color='grey')\n",
        "plt.xlabel('Value')\n",
        "plt.title('Boxplot Risiko')\n",
        "plt.show"
      ],
      "metadata": {
        "colab": {
          "base_uri": "https://localhost:8080/",
          "height": 318
        },
        "id": "rVf4DCjhHWMA",
        "outputId": "aabd9863-6dd3-457f-a63b-eec69ad09339"
      },
      "execution_count": 41,
      "outputs": [
        {
          "output_type": "execute_result",
          "data": {
            "text/plain": [
              "<function matplotlib.pyplot.show>"
            ]
          },
          "metadata": {},
          "execution_count": 41
        },
        {
          "output_type": "display_data",
          "data": {
            "text/plain": [
              "<Figure size 720x288 with 1 Axes>"
            ],
            "image/png": "[encoded data removed]"
          },
          "metadata": {}
        }
      ]
    },
    {
      "cell_type": "markdown",
      "source": [
        "Didapatkan masih terdapat outlier pada data Risiko dan kita lanjutkan ke pembuatan model karena outlier tersebut masih dalam jangkauan nilai yang wajar dan tidak terlalu ekstrim"
      ],
      "metadata": {
        "id": "UTCaCM5E_DlS"
      }
    },
    {
      "cell_type": "markdown",
      "source": [
        "### Multiple Regression Model"
      ],
      "metadata": {
        "id": "aY5fDEgv_DlS"
      }
    },
    {
      "cell_type": "code",
      "source": [
        "#Multiple Regression Model\n",
        "x2 = df2[['Diversifikasi', 'Persentase Beban Training', 'LN Total Aset', 'GDP']]\n",
        "Y2 = df2['Risiko']\n",
        "X2 = sm.add_constant(x2)\n",
        "result = sm.OLS(Y2, X2).fit()\n",
        "\n",
        "print(result.summary())"
      ],
      "metadata": {
        "colab": {
          "base_uri": "https://localhost:8080/"
        },
        "outputId": "5a61e150-d5bc-40af-9e92-8a00f53cb672",
        "id": "CCAIg4_m_DlT"
      },
      "execution_count": 42,
      "outputs": [
        {
          "output_type": "stream",
          "name": "stdout",
          "text": [
            "                            OLS Regression Results                            \n",
            "==============================================================================\n",
            "Dep. Variable:                 Risiko   R-squared:                       0.145\n",
            "Model:                            OLS   Adj. R-squared:                  0.107\n",
            "Method:                 Least Squares   F-statistic:                     3.745\n",
            "Date:                Mon, 25 Jul 2022   Prob (F-statistic):            0.00733\n",
            "Time:                        02:09:06   Log-Likelihood:                 45.609\n",
            "No. Observations:                  93   AIC:                            -81.22\n",
            "Df Residuals:                      88   BIC:                            -68.56\n",
            "Df Model:                           4                                         \n",
            "Covariance Type:            nonrobust                                         \n",
            "=============================================================================================\n",
            "                                coef    std err          t      P>|t|      [0.025      0.975]\n",
            "---------------------------------------------------------------------------------------------\n",
            "const                         2.1897      0.666      3.289      0.001       0.867       3.513\n",
            "Diversifikasi                -0.0046      0.002     -2.649      0.010      -0.008      -0.001\n",
            "Persentase Beban Training    -0.0011      0.010     -0.113      0.910      -0.020       0.018\n",
            "LN Total Aset                -0.0523      0.021     -2.519      0.014      -0.094      -0.011\n",
            "GDP                        2.117e-06   1.12e-06      1.893      0.062   -1.05e-07    4.34e-06\n",
            "==============================================================================\n",
            "Omnibus:                        7.158   Durbin-Watson:                   1.481\n",
            "Prob(Omnibus):                  0.028   Jarque-Bera (JB):                6.606\n",
            "Skew:                           0.611   Prob(JB):                       0.0368\n",
            "Kurtosis:                       3.463   Cond. No.                     6.04e+05\n",
            "==============================================================================\n",
            "\n",
            "Warnings:\n",
            "[1] Standard Errors assume that the covariance matrix of the errors is correctly specified.\n",
            "[2] The condition number is large, 6.04e+05. This might indicate that there are\n",
            "strong multicollinearity or other numerical problems.\n"
          ]
        }
      ]
    },
    {
      "cell_type": "markdown",
      "source": [
        "Variabel independen Persentase Beban Training dan GDP memiliki p-value > alpha sehingga variabel tersebut tidak signifikan terhadap variabel Risiko, sehingga variabel tersebut harus dihapus dari variabel independen"
      ],
      "metadata": {
        "id": "sP1UJTXI_DlT"
      }
    },
    {
      "cell_type": "code",
      "source": [
        "# Multiple Regression Model\n",
        "x2 = df2[['Diversifikasi', 'LN Total Aset']]\n",
        "X2 = sm.add_constant(x2)\n",
        "result = sm.OLS(Y2, X2).fit()\n",
        "\n",
        "print(result.summary())"
      ],
      "metadata": {
        "colab": {
          "base_uri": "https://localhost:8080/"
        },
        "outputId": "93c7d5b9-e60f-4cf9-90d1-eb8297318ca0",
        "id": "6XGSMjsu_DlT"
      },
      "execution_count": 44,
      "outputs": [
        {
          "output_type": "stream",
          "name": "stdout",
          "text": [
            "                            OLS Regression Results                            \n",
            "==============================================================================\n",
            "Dep. Variable:                 Risiko   R-squared:                       0.110\n",
            "Model:                            OLS   Adj. R-squared:                  0.090\n",
            "Method:                 Least Squares   F-statistic:                     5.564\n",
            "Date:                Mon, 25 Jul 2022   Prob (F-statistic):            0.00527\n",
            "Time:                        02:10:55   Log-Likelihood:                 43.720\n",
            "No. Observations:                  93   AIC:                            -81.44\n",
            "Df Residuals:                      90   BIC:                            -73.84\n",
            "Df Model:                           2                                         \n",
            "Covariance Type:            nonrobust                                         \n",
            "=================================================================================\n",
            "                    coef    std err          t      P>|t|      [0.025      0.975]\n",
            "---------------------------------------------------------------------------------\n",
            "const             2.1523      0.660      3.259      0.002       0.840       3.464\n",
            "Diversifikasi    -0.0044      0.002     -2.515      0.014      -0.008      -0.001\n",
            "LN Total Aset    -0.0515      0.021     -2.480      0.015      -0.093      -0.010\n",
            "==============================================================================\n",
            "Omnibus:                        6.869   Durbin-Watson:                   1.442\n",
            "Prob(Omnibus):                  0.032   Jarque-Bera (JB):                6.375\n",
            "Skew:                           0.619   Prob(JB):                       0.0413\n",
            "Kurtosis:                       3.335   Cond. No.                     3.03e+03\n",
            "==============================================================================\n",
            "\n",
            "Warnings:\n",
            "[1] Standard Errors assume that the covariance matrix of the errors is correctly specified.\n",
            "[2] The condition number is large, 3.03e+03. This might indicate that there are\n",
            "strong multicollinearity or other numerical problems.\n"
          ]
        }
      ]
    },
    {
      "cell_type": "markdown",
      "source": [
        "R² berkisar antara 0 dan 1, di mana R²=0 berarti tidak ada hubungan linier antara variabel dan R²=1 menunjukkan hubungan linier yang sempurna. Dalam kasus ini, kita mendapat skor R² sekitar 0,11 yang berarti 11% dari variabel dependen dapat dijelaskan menggunakan variabel independen."
      ],
      "metadata": {
        "id": "eVj_kAA-_DlT"
      }
    },
    {
      "cell_type": "code",
      "source": [
        "#F-Test (ANOVA)\n",
        "print('F-statistic:', result.fvalue)\n",
        "print('Probability of observing value at least as high as F-statistic:', result.f_pvalue)"
      ],
      "metadata": {
        "colab": {
          "base_uri": "https://localhost:8080/"
        },
        "outputId": "30b7133a-b916-47f6-989a-0e480ae35351",
        "id": "rAZtDERf_DlU"
      },
      "execution_count": 45,
      "outputs": [
        {
          "output_type": "stream",
          "name": "stdout",
          "text": [
            "F-statistic: 5.56425567583323\n",
            "Probability of observing value at least as high as F-statistic: 0.005267448286286681\n"
          ]
        }
      ]
    },
    {
      "cell_type": "markdown",
      "source": [
        "Karena f_pvalue yang didapat lebih rendah dari 0.05 yaitu 0.005, kita dapat menyimpulkan bahwa model ini berkinerja lebih baik daripada model lain yang lebih sederhana."
      ],
      "metadata": {
        "id": "RHKqCT0s_DlU"
      }
    },
    {
      "cell_type": "markdown",
      "source": [
        "#### Multiple Linear Regression Equation"
      ],
      "metadata": {
        "id": "KoanWg_V_DlU"
      }
    },
    {
      "cell_type": "markdown",
      "source": [
        "$\\hat{Y} = 2.1523 - 0.0044 X_1 - 0.0515 X_2$\n",
        "\n",
        "Atau\n",
        "\n",
        "$\\hat{Y}$ = 2.1523 - 0.0044 Diversifikasi - 0.0515 LN Total Aset"
      ],
      "metadata": {
        "id": "WmCqa4vL_DlU"
      }
    },
    {
      "cell_type": "markdown",
      "source": [
        "Nilai intersep adalah perkiraan nilai rata-rata variabel dependen kita ketika semua nilai variabel independen kita adalah 0. Dalam kasus ini berarti bahwa nilai diversifikasi bernilai 0 dan nilai LN total aset bernilai 0 maka nilai Risiko dari suatu Bank BPD sekitar 2.5123\n",
        "\n",
        "Untuk koefisien kami memiliki 2 nilai untuk variabel diversifikasi dan LN total aset. Nilai ini mewakili hubungan variabel independen kita dengan variabel dependen, di mana perubahan tepat 1 pada variabel independen akan mengubah nilai variabel dependen dengan jumlah yang sama dengan koefisien. Misalnya, jika nilai diversifikasi meningkat 10 makan akan menurunkan nilai Risiko sekitar 0,04."
      ],
      "metadata": {
        "id": "bekPeJbM_DlV"
      }
    },
    {
      "cell_type": "markdown",
      "source": [
        "### Multiple Linear Regression Assumptions"
      ],
      "metadata": {
        "id": "DUfL_D9f_DlV"
      }
    },
    {
      "cell_type": "markdown",
      "source": [
        "#### Autocorrelation in Residual\n",
        "\n",
        "H0: Tidak ada autokorelasi \n",
        "\n",
        "H1: Ada autokorelasi"
      ],
      "metadata": {
        "id": "ANaMvMf2_DlV"
      }
    },
    {
      "cell_type": "code",
      "source": [
        "# residuals model regresi linier berganda\n",
        "err = result.resid"
      ],
      "metadata": {
        "id": "XSxVzged_DlV"
      },
      "execution_count": 49,
      "outputs": []
    },
    {
      "cell_type": "code",
      "source": [
        "## membuat plot residuals vs time order\n",
        "# membuat list time order\n",
        "time=list(range(1,93+1)) #karena terdapat 93 data\n",
        "\n",
        "plt.scatter(x=time, y=err)\n",
        "plt.xlabel('time order', fontsize=12)\n",
        "plt.ylabel('residuals', fontsize=12)\n",
        "plt.show()"
      ],
      "metadata": {
        "colab": {
          "base_uri": "https://localhost:8080/",
          "height": 395
        },
        "outputId": "b2c55e73-c967-480b-b719-088b43910daa",
        "id": "virk53ex_DlW"
      },
      "execution_count": 50,
      "outputs": [
        {
          "output_type": "display_data",
          "data": {
            "text/plain": [
              "<Figure size 936x432 with 1 Axes>"
            ],
            "image/png": "[encoded data removed]"
          },
          "metadata": {}
        }
      ]
    },
    {
      "cell_type": "code",
      "source": [
        "import statsmodels.tsa.api as smt\n",
        "acf = smt.graphics.plot_acf(err, lags=10 , alpha=0.05)\n",
        "acf.show()"
      ],
      "metadata": {
        "colab": {
          "base_uri": "https://localhost:8080/",
          "height": 393
        },
        "outputId": "d3e53838-91df-43dd-9b7a-02681189cc81",
        "id": "5tMY3gy7_DlW"
      },
      "execution_count": 51,
      "outputs": [
        {
          "output_type": "display_data",
          "data": {
            "text/plain": [
              "<Figure size 936x432 with 1 Axes>"
            ],
            "image/png": "[encoded data removed]"
          },
          "metadata": {}
        }
      ]
    },
    {
      "cell_type": "markdown",
      "source": [
        "Pada Lag 1 terlihat bahwa data tersebut melebihi area sehingga mengindikasikan terdapat autokorelasi positif dalam residual"
      ],
      "metadata": {
        "id": "TXU_lzgl_DlW"
      }
    },
    {
      "cell_type": "markdown",
      "source": [
        "Menentukan daerah kritis\n",
        "\n",
        "Tolak H0: jika 0 < DW < dl  atau 4 – dl < DW < 4\n",
        "\n",
        "Gagal tolak H0: jika du < DW <4 – du\n",
        "\n",
        "Tidak ada keputusan : jika dl < DW < du atau 4 – du < DW < 4 – dl"
      ],
      "metadata": {
        "id": "0blklvXG_DlW"
      }
    },
    {
      "cell_type": "markdown",
      "source": [
        "Statistik uji\n",
        "\n",
        "Karena nilai DW  1.442 dengan 0 < DW < dl atau 0 < 1.442 < 1.619 sehingga dapat dikatakan bahwa Tolak H0.  "
      ],
      "metadata": {
        "id": "fQllw-FL_DlW"
      }
    },
    {
      "cell_type": "markdown",
      "source": [
        "Jadi, dengan tingkat signifikansi 5% dapat disimpulkan bahwa keputusan uji adalah terdapat Autokorelasi."
      ],
      "metadata": {
        "id": "N1f529YT_DlX"
      }
    },
    {
      "cell_type": "markdown",
      "source": [
        "#### Normality in Residual"
      ],
      "metadata": {
        "id": "tI7U-R78_DlX"
      }
    },
    {
      "cell_type": "code",
      "source": [
        "# membuat histogram\n",
        "sns.distplot(err, hist=True, kde=True, \n",
        "             color = 'darkblue', \n",
        "             hist_kws={'edgecolor':'white'},\n",
        "             kde_kws={'linewidth': 3})"
      ],
      "metadata": {
        "colab": {
          "base_uri": "https://localhost:8080/",
          "height": 394
        },
        "outputId": "4304c221-101a-42fd-b096-56ced93fda83",
        "id": "OnDfXnCT_DlX"
      },
      "execution_count": 52,
      "outputs": [
        {
          "output_type": "execute_result",
          "data": {
            "text/plain": [
              "<matplotlib.axes._subplots.AxesSubplot at 0x7ff9cfd3c610>"
            ]
          },
          "metadata": {},
          "execution_count": 52
        },
        {
          "output_type": "display_data",
          "data": {
            "text/plain": [
              "<Figure size 936x432 with 1 Axes>"
            ],
            "image/png": "[encoded data removed]"
          },
          "metadata": {}
        }
      ]
    },
    {
      "cell_type": "code",
      "source": [
        "# membuat q-q plot\n",
        "stats.probplot(err, dist=\"norm\", plot=pylab)\n",
        "pylab.show()"
      ],
      "metadata": {
        "colab": {
          "base_uri": "https://localhost:8080/",
          "height": 410
        },
        "outputId": "4f0373a2-7530-47a5-83ce-0f0d3fc1b64c",
        "id": "26_bx6bY_DlY"
      },
      "execution_count": 53,
      "outputs": [
        {
          "output_type": "display_data",
          "data": {
            "text/plain": [
              "<Figure size 936x432 with 1 Axes>"
            ],
            "image/png": "[encoded data removed]"
          },
          "metadata": {}
        }
      ]
    },
    {
      "cell_type": "markdown",
      "source": [
        "Secara visual, data residual dikatakan berdistribusi normal apabila menyentuh atau mendekati garis. Jadi, data tersebut berdistribusi normal karena banyak data yang mendekati garis."
      ],
      "metadata": {
        "id": "ZNW2JLaQ_DlY"
      }
    },
    {
      "cell_type": "code",
      "source": [
        "# uji normalitas dengan kolmogorov-smirnov test\n",
        "ks = kstest(err,'norm')\n",
        "print('Statistic KS:', ks.statistic.round(4))\n",
        "print('P-value:', ks.pvalue.round(4))\n",
        "\n",
        "# interpret\n",
        "alpha = 0.05\n",
        "if ks.pvalue > alpha:\n",
        "\tprint('Data Berdistribusi Normal (Gagal Tolak H0)')\n",
        "else:\n",
        "\tprint('Data Tidak Berdistribusi Normal (Tolak H0)')"
      ],
      "metadata": {
        "colab": {
          "base_uri": "https://localhost:8080/"
        },
        "outputId": "a13e3fb4-bc48-4fa8-d728-b9d753a2e5b8",
        "id": "zaVvH8ZZ_DlY"
      },
      "execution_count": 54,
      "outputs": [
        {
          "output_type": "stream",
          "name": "stdout",
          "text": [
            "Statistic KS: 0.396\n",
            "P-value: 0.0\n",
            "Data Tidak Berdistribusi Normal (Tolak H0)\n"
          ]
        }
      ]
    },
    {
      "cell_type": "code",
      "source": [
        "# uji normalitas dengan shapiro wilk test\n",
        "stat, p = shapiro(err)\n",
        "print('Statistics=%.3f, p=%.3f' % (stat, p))\n",
        "# interpret\n",
        "alpha = 0.05\n",
        "if p > alpha:\n",
        "  print('Data Berdistribusi Normal (Gagal Tolak H0)')\n",
        "else:\n",
        "  print('Data Tidak Berdistribusi Normal (Tolak H0)')"
      ],
      "metadata": {
        "colab": {
          "base_uri": "https://localhost:8080/"
        },
        "outputId": "eda7af9a-380f-4ca3-e6a2-6c31722def02",
        "id": "UyhBs7GK_DlZ"
      },
      "execution_count": 55,
      "outputs": [
        {
          "output_type": "stream",
          "name": "stdout",
          "text": [
            "Statistics=0.969, p=0.024\n",
            "Data Tidak Berdistribusi Normal (Tolak H0)\n"
          ]
        }
      ]
    },
    {
      "cell_type": "markdown",
      "source": [
        "#### Homoskedasticity in Residual\n",
        "\n",
        "H0: Variansi error konstan (homoskedastatis)\n",
        "\n",
        "H1: Variansi error tidak konstan (heteroskedastatis)"
      ],
      "metadata": {
        "id": "FjPBzabe_DlZ"
      }
    },
    {
      "cell_type": "code",
      "source": [
        "df2.rename(columns = {'Persentase Beban Training':'Persentase_Beban_Training', 'LN Total Aset':'LN_Total_Aset'}\n",
        "           , inplace = True)\n",
        "import statsmodels.formula.api as smf\n",
        "lm =smf.ols(formula=\"Risiko~Diversifikasi+LN_Total_Aset\",data=df2).fit()\n",
        "resid=lm.resid\n",
        "plt.scatter(lm.predict(),resid)"
      ],
      "metadata": {
        "colab": {
          "base_uri": "https://localhost:8080/",
          "height": 395
        },
        "outputId": "2fdc5052-1142-424c-fd21-4b65822c0d36",
        "id": "xgAau5Dt_Dlb"
      },
      "execution_count": 58,
      "outputs": [
        {
          "output_type": "execute_result",
          "data": {
            "text/plain": [
              "<matplotlib.collections.PathCollection at 0x7ff9d0319f50>"
            ]
          },
          "metadata": {},
          "execution_count": 58
        },
        {
          "output_type": "display_data",
          "data": {
            "text/plain": [
              "<Figure size 936x432 with 1 Axes>"
            ],
            "image/png": "[encoded data removed]"
          },
          "metadata": {}
        }
      ]
    },
    {
      "cell_type": "code",
      "source": [
        "keys = ['Lagrange Multiplier statistic:', 'LM test\\'s p-value:', 'F-statistic:', 'F-test\\'s p-value:']\n",
        "results = het_white(err, lm.model.exog, retres=False)\n",
        "lzip(keys, results)"
      ],
      "metadata": {
        "colab": {
          "base_uri": "https://localhost:8080/"
        },
        "outputId": "186e6e7a-fea2-43bf-ba68-62730eef3ccf",
        "id": "aoIVDt1z_Dlb"
      },
      "execution_count": 59,
      "outputs": [
        {
          "output_type": "execute_result",
          "data": {
            "text/plain": [
              "[('Lagrange Multiplier statistic:', 6.29024460799552),\n",
              " (\"LM test's p-value:\", 0.2789924290116932),\n",
              " ('F-statistic:', 1.2622600038981824),\n",
              " (\"F-test's p-value:\", 0.2875540819348637)]"
            ]
          },
          "metadata": {},
          "execution_count": 59
        }
      ]
    },
    {
      "cell_type": "markdown",
      "source": [
        "Tes LM: Statistik tes LM mengikuti distribusi Chi-kuadrat dengan derajat kebebasan = DF model - 1 = (4-1) = 3. Nilai p (0.279) sangat tinggi. Jadi kami menerima hipotesis nol dari tes bahwa tidak ada heterokedastatis dalam kesalahan residual.\n",
        "\n",
        "Uji-F: Statistik uji-F mengikuti distribusi-F. Sekali lagi, nilai p yang tinggi sebesar 0.288 menegaskan hipotesis nol dari tes bahwa tidak ada heterokedastatis dalam kesalahan residual.\n",
        "\n",
        "Secara keseluruhan, kami menyimpulkan bahwa kesalahan residual bersifat homoskedastik."
      ],
      "metadata": {
        "id": "dcnT-xrO_Dlc"
      }
    },
    {
      "cell_type": "markdown",
      "source": [
        "#### Linearity between Y(Risiko) and X(Diversifikasi, LN Total Aset)"
      ],
      "metadata": {
        "id": "NxFNl4Ip_Dlc"
      }
    },
    {
      "cell_type": "code",
      "source": [
        "#untuk membuat scatter plot antara variabel respons dan variabel prediktor\n",
        "plt.figure(figsize=(20, 5))\n",
        "\n",
        "predictors = ['Diversifikasi', 'LN_Total_Aset']\n",
        "response = df2['Risiko']\n",
        "\n",
        "for i, col in enumerate(predictors):\n",
        "    plt.subplot(1, len(predictors) , i+1)\n",
        "    x = df2[col]\n",
        "    y = response\n",
        "    plt.scatter(x, y, marker='o', color='darkblue')\n",
        "    plt.title(col)\n",
        "    plt.xlabel(col)\n",
        "    plt.ylabel('Risiko')"
      ],
      "metadata": {
        "colab": {
          "base_uri": "https://localhost:8080/",
          "height": 288
        },
        "outputId": "ecddbe0c-cbee-47cb-a9c6-bf5c44519c3a",
        "id": "PQ3CEjQM_Dld"
      },
      "execution_count": 60,
      "outputs": [
        {
          "output_type": "display_data",
          "data": {
            "text/plain": [
              "<Figure size 1440x360 with 2 Axes>"
            ],
            "image/png": "[encoded data removed]"
          },
          "metadata": {}
        }
      ]
    },
    {
      "cell_type": "markdown",
      "source": [
        "##### Linear Relationship between X(Diversifikasi) and Y(Risiko)"
      ],
      "metadata": {
        "id": "oFOilQHe_Dld"
      }
    },
    {
      "cell_type": "code",
      "source": [
        "# menghitung nilai korelasi X dan Y\n",
        "corr, _ = pearsonr(df2['Diversifikasi'], df2['Risiko'])\n",
        "print('Pearsons correlation: %.4f' % corr)"
      ],
      "metadata": {
        "colab": {
          "base_uri": "https://localhost:8080/"
        },
        "outputId": "9994deed-07fc-4671-b790-e7fa52f0636b",
        "id": "Hp_RkxuE_Dld"
      },
      "execution_count": 61,
      "outputs": [
        {
          "output_type": "stream",
          "name": "stdout",
          "text": [
            "Pearsons correlation: -0.2218\n"
          ]
        }
      ]
    },
    {
      "cell_type": "markdown",
      "source": [
        "Didapatkan nilai koefisien korelasi antara Diversifikasi dengan Risiko dari metode pearsons sebesar -0.2218 karena bernilai negatif maka garis linier dari kiri semakin turun ke kanan dengan kata lain jika nilai diversifikasi semakin meningkat maka nilai risiko semakin menurun dan sebaliknya"
      ],
      "metadata": {
        "id": "BkS71IVo_Dle"
      }
    },
    {
      "cell_type": "markdown",
      "source": [
        "##### Linear Relationship between X(LN Total Aset) and Y(ROA)"
      ],
      "metadata": {
        "id": "3Qw90bbP_Dle"
      }
    },
    {
      "cell_type": "code",
      "source": [
        "# menghitung nilai korelasi X dan Y\n",
        "corr, _ = pearsonr(df2['LN_Total_Aset'], df2['Risiko'])\n",
        "print('Pearsons correlation: %.4f' % corr)"
      ],
      "metadata": {
        "colab": {
          "base_uri": "https://localhost:8080/"
        },
        "outputId": "81a9473a-e010-4da0-94ee-b6db6676d2ce",
        "id": "n2d_6Lr6_Dle"
      },
      "execution_count": 62,
      "outputs": [
        {
          "output_type": "stream",
          "name": "stdout",
          "text": [
            "Pearsons correlation: -0.2179\n"
          ]
        }
      ]
    },
    {
      "cell_type": "markdown",
      "source": [
        "Didapatkan nilai koefisien korelasi antara LN Total Aset dengan ROA dari metode pearsons sebesar -0.2179 karena bernilai negatif maka garis linier dari kiri semakin turun ke kanan dengan kata lain jika nilai LN Total Aset semakin meningkat maka nilai risiko semakin menurun dan sebaliknya"
      ],
      "metadata": {
        "id": "dvIQ3UF6_Dlf"
      }
    },
    {
      "cell_type": "markdown",
      "source": [
        "#### Multicollinearity in Independen Variabel\n",
        "\n",
        "Hipotesis\n",
        "\n",
        "H0: VIF < 10 artinya tidak terdapat Multikolinearitas.\n",
        "\n",
        "H1: VIF > 10 artinya terdapat Multikolinearitas."
      ],
      "metadata": {
        "id": "zHLswCzX_Dlg"
      }
    },
    {
      "cell_type": "code",
      "source": [
        "# VIF dataframe\n",
        "vif_data = pd.DataFrame()\n",
        "vif_data[\"feature\"] = x2.columns\n",
        "  \n",
        "# calculating VIF for each feature\n",
        "vif_data[\"VIF\"] = [variance_inflation_factor(x2.values, i)\n",
        "                          for i in range(len(x2.columns))]\n",
        "  \n",
        "print(vif_data)"
      ],
      "metadata": {
        "colab": {
          "base_uri": "https://localhost:8080/"
        },
        "outputId": "d5069073-dc93-4290-a179-0fd236e1d931",
        "id": "KNv6exUw_Dlg"
      },
      "execution_count": 63,
      "outputs": [
        {
          "output_type": "stream",
          "name": "stdout",
          "text": [
            "         feature        VIF\n",
            "0  Diversifikasi  48.243545\n",
            "1  LN Total Aset  48.243545\n"
          ]
        }
      ]
    },
    {
      "cell_type": "markdown",
      "source": [
        "Kesimpulan:\n",
        "\n",
        "Karena VIF kedua variabel independen > 10, maka terdapat kasus multikolinieritas. "
      ],
      "metadata": {
        "id": "cH2XVYC8_Dlg"
      }
    },
    {
      "cell_type": "markdown",
      "source": [
        "# NPL Produktif Multiple Regression"
      ],
      "metadata": {
        "id": "wG-frusH3nUe"
      }
    },
    {
      "cell_type": "code",
      "source": [
        "df3 = df.copy()"
      ],
      "metadata": {
        "colab": {
          "base_uri": "https://localhost:8080/",
          "height": 522
        },
        "id": "IZ2HEkgyLWqx",
        "outputId": "23e88b85-1ea4-4a0a-c854-f2c71a9631d9"
      },
      "execution_count": 64,
      "outputs": [
        {
          "output_type": "execute_result",
          "data": {
            "text/plain": [
              "                                Bank BPD  Tahun   Roa  Risiko  \\\n",
              "0    Sulawesi.Selatan.dan.Sulawesi.Barat   2018  3.67    0.78   \n",
              "1    Sulawesi.Selatan.dan.Sulawesi.Barat   2019  3.36    0.16   \n",
              "2    Sulawesi.Selatan.dan.Sulawesi.Barat   2020  3.12    0.28   \n",
              "3    Sulawesi.Selatan.dan.Sulawesi.Barat   2021  3.09    0.15   \n",
              "4                             Jawa.Barat   2018  1.71    0.26   \n",
              "..                                   ...    ...   ...     ...   \n",
              "99                               Bengulu   2021  1.40    0.45   \n",
              "100                               Nagari   2018  2.03    0.17   \n",
              "101                               Nagari   2019  2.06    0.11   \n",
              "102                               Nagari   2020  1.78    0.15   \n",
              "103                               Nagari   2021  1.90    0.14   \n",
              "\n",
              "     Kredit Masalah Produktif  Total Kredit Produktif    Total Kredit  \\\n",
              "0                 45657507948           3315582238093  15971679770192   \n",
              "1                192916456606           3993982225607  18424050956824   \n",
              "2                 96475990095           4545728882592  19653526947618   \n",
              "3                132615330379           4673364835103  21267419581139   \n",
              "4               1025468000000          18969885000000  79991787000000   \n",
              "..                        ...                     ...             ...   \n",
              "99                42443244935           1641126419774   6314958595308   \n",
              "100              483780729974          16148563340778  17577892514955   \n",
              "101              538302256123          17432398375257  18932547141295   \n",
              "102              540004437061          19559663891597  21113714892226   \n",
              "103              493327156129          21246720804958  23031823319842   \n",
              "\n",
              "     NPL Produktif       Total Aset  Diversifikasi  Beban Training  \\\n",
              "0             1.38   20576423170440          77.62      4818109026   \n",
              "1             4.83   23541662250195          78.26      6150024591   \n",
              "2             2.12   24830410397906          79.15      7383405548   \n",
              "3             2.84   27784972251064          76.54     14234938688   \n",
              "4             5.41  120191387000000          66.55    110758000000   \n",
              "..             ...              ...            ...             ...   \n",
              "99            2.59    8167684386937          77.32      8277314024   \n",
              "100           3.00   23190691424930          75.80     20983084997   \n",
              "101           3.09   24433595767423          77.49     27121668819   \n",
              "102           2.76   25559008291909          82.61     21602450650   \n",
              "103           2.32   27982084555688          82.31     26544481338   \n",
              "\n",
              "         Beban SDM  Persentase Beban Training  LN Total Aset         GDP  \n",
              "0     434007307623                       1.11        30.6552   -1.278195  \n",
              "1     432727372659                       1.42        30.7898   -6.655974  \n",
              "2     485262938979                       1.52        30.8431  500.964630  \n",
              "3     531917397085                       2.68        30.9555  143.134535  \n",
              "4    2160020000000                       5.13        32.4201   -0.920277  \n",
              "..             ...                        ...            ...         ...  \n",
              "99    241226653909                       3.43        29.7312    3.240000  \n",
              "100   663068784606                       3.16        30.7748    5.140000  \n",
              "101   788456605453                       3.44        30.8270    5.010000  \n",
              "102   684673011536                       3.16        30.8720   -1.620000  \n",
              "103   695685863195                       3.82        30.9626    3.290000  \n",
              "\n",
              "[104 rows x 15 columns]"
            ],
            "text/html": [
              "\n",
              "  <div id=\"df-24f65897-f04f-4db9-9685-65a97367140d\">\n",
              "    <div class=\"colab-df-container\">\n",
              "      <div>\n",
              "<style scoped>\n",
              "    .dataframe tbody tr th:only-of-type {\n",
              "        vertical-align: middle;\n",
              "    }\n",
              "\n",
              "    .dataframe tbody tr th {\n",
              "        vertical-align: top;\n",
              "    }\n",
              "\n",
              "    .dataframe thead th {\n",
              "        text-align: right;\n",
              "    }\n",
              "</style>\n",
              "<table border=\"1\" class=\"dataframe\">\n",
              "  <thead>\n",
              "    <tr style=\"text-align: right;\">\n",
              "      <th></th>\n",
              "      <th>Bank BPD</th>\n",
              "      <th>Tahun</th>\n",
              "      <th>Roa</th>\n",
              "      <th>Risiko</th>\n",
              "      <th>Kredit Masalah Produktif</th>\n",
              "      <th>Total Kredit Produktif</th>\n",
              "      <th>Total Kredit</th>\n",
              "      <th>NPL Produktif</th>\n",
              "      <th>Total Aset</th>\n",
              "      <th>Diversifikasi</th>\n",
              "      <th>Beban Training</th>\n",
              "      <th>Beban SDM</th>\n",
              "      <th>Persentase Beban Training</th>\n",
              "      <th>LN Total Aset</th>\n",
              "      <th>GDP</th>\n",
              "    </tr>\n",
              "  </thead>\n",
              "  <tbody>\n",
              "    <tr>\n",
              "      <th>0</th>\n",
              "      <td>Sulawesi.Selatan.dan.Sulawesi.Barat</td>\n",
              "      <td>2018</td>\n",
              "      <td>3.67</td>\n",
              "      <td>0.78</td>\n",
              "      <td>45657507948</td>\n",
              "      <td>3315582238093</td>\n",
              "      <td>15971679770192</td>\n",
              "      <td>1.38</td>\n",
              "      <td>20576423170440</td>\n",
              "      <td>77.62</td>\n",
              "      <td>4818109026</td>\n",
              "      <td>434007307623</td>\n",
              "      <td>1.11</td>\n",
              "      <td>30.6552</td>\n",
              "      <td>-1.278195</td>\n",
              "    </tr>\n",
              "    <tr>\n",
              "      <th>1</th>\n",
              "      <td>Sulawesi.Selatan.dan.Sulawesi.Barat</td>\n",
              "      <td>2019</td>\n",
              "      <td>3.36</td>\n",
              "      <td>0.16</td>\n",
              "      <td>192916456606</td>\n",
              "      <td>3993982225607</td>\n",
              "      <td>18424050956824</td>\n",
              "      <td>4.83</td>\n",
              "      <td>23541662250195</td>\n",
              "      <td>78.26</td>\n",
              "      <td>6150024591</td>\n",
              "      <td>432727372659</td>\n",
              "      <td>1.42</td>\n",
              "      <td>30.7898</td>\n",
              "      <td>-6.655974</td>\n",
              "    </tr>\n",
              "    <tr>\n",
              "      <th>2</th>\n",
              "      <td>Sulawesi.Selatan.dan.Sulawesi.Barat</td>\n",
              "      <td>2020</td>\n",
              "      <td>3.12</td>\n",
              "      <td>0.28</td>\n",
              "      <td>96475990095</td>\n",
              "      <td>4545728882592</td>\n",
              "      <td>19653526947618</td>\n",
              "      <td>2.12</td>\n",
              "      <td>24830410397906</td>\n",
              "      <td>79.15</td>\n",
              "      <td>7383405548</td>\n",
              "      <td>485262938979</td>\n",
              "      <td>1.52</td>\n",
              "      <td>30.8431</td>\n",
              "      <td>500.964630</td>\n",
              "    </tr>\n",
              "    <tr>\n",
              "      <th>3</th>\n",
              "      <td>Sulawesi.Selatan.dan.Sulawesi.Barat</td>\n",
              "      <td>2021</td>\n",
              "      <td>3.09</td>\n",
              "      <td>0.15</td>\n",
              "      <td>132615330379</td>\n",
              "      <td>4673364835103</td>\n",
              "      <td>21267419581139</td>\n",
              "      <td>2.84</td>\n",
              "      <td>27784972251064</td>\n",
              "      <td>76.54</td>\n",
              "      <td>14234938688</td>\n",
              "      <td>531917397085</td>\n",
              "      <td>2.68</td>\n",
              "      <td>30.9555</td>\n",
              "      <td>143.134535</td>\n",
              "    </tr>\n",
              "    <tr>\n",
              "      <th>4</th>\n",
              "      <td>Jawa.Barat</td>\n",
              "      <td>2018</td>\n",
              "      <td>1.71</td>\n",
              "      <td>0.26</td>\n",
              "      <td>1025468000000</td>\n",
              "      <td>18969885000000</td>\n",
              "      <td>79991787000000</td>\n",
              "      <td>5.41</td>\n",
              "      <td>120191387000000</td>\n",
              "      <td>66.55</td>\n",
              "      <td>110758000000</td>\n",
              "      <td>2160020000000</td>\n",
              "      <td>5.13</td>\n",
              "      <td>32.4201</td>\n",
              "      <td>-0.920277</td>\n",
              "    </tr>\n",
              "    <tr>\n",
              "      <th>...</th>\n",
              "      <td>...</td>\n",
              "      <td>...</td>\n",
              "      <td>...</td>\n",
              "      <td>...</td>\n",
              "      <td>...</td>\n",
              "      <td>...</td>\n",
              "      <td>...</td>\n",
              "      <td>...</td>\n",
              "      <td>...</td>\n",
              "      <td>...</td>\n",
              "      <td>...</td>\n",
              "      <td>...</td>\n",
              "      <td>...</td>\n",
              "      <td>...</td>\n",
              "      <td>...</td>\n",
              "    </tr>\n",
              "    <tr>\n",
              "      <th>99</th>\n",
              "      <td>Bengulu</td>\n",
              "      <td>2021</td>\n",
              "      <td>1.40</td>\n",
              "      <td>0.45</td>\n",
              "      <td>42443244935</td>\n",
              "      <td>1641126419774</td>\n",
              "      <td>6314958595308</td>\n",
              "      <td>2.59</td>\n",
              "      <td>8167684386937</td>\n",
              "      <td>77.32</td>\n",
              "      <td>8277314024</td>\n",
              "      <td>241226653909</td>\n",
              "      <td>3.43</td>\n",
              "      <td>29.7312</td>\n",
              "      <td>3.240000</td>\n",
              "    </tr>\n",
              "    <tr>\n",
              "      <th>100</th>\n",
              "      <td>Nagari</td>\n",
              "      <td>2018</td>\n",
              "      <td>2.03</td>\n",
              "      <td>0.17</td>\n",
              "      <td>483780729974</td>\n",
              "      <td>16148563340778</td>\n",
              "      <td>17577892514955</td>\n",
              "      <td>3.00</td>\n",
              "      <td>23190691424930</td>\n",
              "      <td>75.80</td>\n",
              "      <td>20983084997</td>\n",
              "      <td>663068784606</td>\n",
              "      <td>3.16</td>\n",
              "      <td>30.7748</td>\n",
              "      <td>5.140000</td>\n",
              "    </tr>\n",
              "    <tr>\n",
              "      <th>101</th>\n",
              "      <td>Nagari</td>\n",
              "      <td>2019</td>\n",
              "      <td>2.06</td>\n",
              "      <td>0.11</td>\n",
              "      <td>538302256123</td>\n",
              "      <td>17432398375257</td>\n",
              "      <td>18932547141295</td>\n",
              "      <td>3.09</td>\n",
              "      <td>24433595767423</td>\n",
              "      <td>77.49</td>\n",
              "      <td>27121668819</td>\n",
              "      <td>788456605453</td>\n",
              "      <td>3.44</td>\n",
              "      <td>30.8270</td>\n",
              "      <td>5.010000</td>\n",
              "    </tr>\n",
              "    <tr>\n",
              "      <th>102</th>\n",
              "      <td>Nagari</td>\n",
              "      <td>2020</td>\n",
              "      <td>1.78</td>\n",
              "      <td>0.15</td>\n",
              "      <td>540004437061</td>\n",
              "      <td>19559663891597</td>\n",
              "      <td>21113714892226</td>\n",
              "      <td>2.76</td>\n",
              "      <td>25559008291909</td>\n",
              "      <td>82.61</td>\n",
              "      <td>21602450650</td>\n",
              "      <td>684673011536</td>\n",
              "      <td>3.16</td>\n",
              "      <td>30.8720</td>\n",
              "      <td>-1.620000</td>\n",
              "    </tr>\n",
              "    <tr>\n",
              "      <th>103</th>\n",
              "      <td>Nagari</td>\n",
              "      <td>2021</td>\n",
              "      <td>1.90</td>\n",
              "      <td>0.14</td>\n",
              "      <td>493327156129</td>\n",
              "      <td>21246720804958</td>\n",
              "      <td>23031823319842</td>\n",
              "      <td>2.32</td>\n",
              "      <td>27982084555688</td>\n",
              "      <td>82.31</td>\n",
              "      <td>26544481338</td>\n",
              "      <td>695685863195</td>\n",
              "      <td>3.82</td>\n",
              "      <td>30.9626</td>\n",
              "      <td>3.290000</td>\n",
              "    </tr>\n",
              "  </tbody>\n",
              "</table>\n",
              "<p>104 rows × 15 columns</p>\n",
              "</div>\n",
              "      <button class=\"colab-df-convert\" onclick=\"convertToInteractive('df-24f65897-f04f-4db9-9685-65a97367140d')\"\n",
              "              title=\"Convert this dataframe to an interactive table.\"\n",
              "              style=\"display:none;\">\n",
              "        \n",
              "  <svg xmlns=\"http://www.w3.org/2000/svg\" height=\"24px\"viewBox=\"0 0 24 24\"\n",
              "       width=\"24px\">\n",
              "    <path d=\"M0 0h24v24H0V0z\" fill=\"none\"/>\n",
              "    <path d=\"M18.56 5.44l.94 2.06.94-2.06 2.06-.94-2.06-.94-.94-2.06-.94 2.06-2.06.94zm-11 1L8.5 8.5l.94-2.06 2.06-.94-2.06-.94L8.5 2.5l-.94 2.06-2.06.94zm10 10l.94 2.06.94-2.06 2.06-.94-2.06-.94-.94-2.06-.94 2.06-2.06.94z\"/><path d=\"M17.41 7.96l-1.37-1.37c-.4-.4-.92-.59-1.43-.59-.52 0-1.04.2-1.43.59L10.3 9.45l-7.72 7.72c-.78.78-.78 2.05 0 2.83L4 21.41c.39.39.9.59 1.41.59.51 0 1.02-.2 1.41-.59l7.78-7.78 2.81-2.81c.8-.78.8-2.07 0-2.86zM5.41 20L4 18.59l7.72-7.72 1.47 1.35L5.41 20z\"/>\n",
              "  </svg>\n",
              "      </button>\n",
              "      \n",
              "  <style>\n",
              "    .colab-df-container {\n",
              "      display:flex;\n",
              "      flex-wrap:wrap;\n",
              "      gap: 12px;\n",
              "    }\n",
              "\n",
              "    .colab-df-convert {\n",
              "      background-color: #E8F0FE;\n",
              "      border: none;\n",
              "      border-radius: 50%;\n",
              "      cursor: pointer;\n",
              "      display: none;\n",
              "      fill: #1967D2;\n",
              "      height: 32px;\n",
              "      padding: 0 0 0 0;\n",
              "      width: 32px;\n",
              "    }\n",
              "\n",
              "    .colab-df-convert:hover {\n",
              "      background-color: #E2EBFA;\n",
              "      box-shadow: 0px 1px 2px rgba(60, 64, 67, 0.3), 0px 1px 3px 1px rgba(60, 64, 67, 0.15);\n",
              "      fill: #174EA6;\n",
              "    }\n",
              "\n",
              "    [theme=dark] .colab-df-convert {\n",
              "      background-color: #3B4455;\n",
              "      fill: #D2E3FC;\n",
              "    }\n",
              "\n",
              "    [theme=dark] .colab-df-convert:hover {\n",
              "      background-color: #434B5C;\n",
              "      box-shadow: 0px 1px 3px 1px rgba(0, 0, 0, 0.15);\n",
              "      filter: drop-shadow(0px 1px 2px rgba(0, 0, 0, 0.3));\n",
              "      fill: #FFFFFF;\n",
              "    }\n",
              "  </style>\n",
              "\n",
              "      <script>\n",
              "        const buttonEl =\n",
              "          document.querySelector('#df-24f65897-f04f-4db9-9685-65a97367140d button.colab-df-convert');\n",
              "        buttonEl.style.display =\n",
              "          google.colab.kernel.accessAllowed ? 'block' : 'none';\n",
              "\n",
              "        async function convertToInteractive(key) {\n",
              "          const element = document.querySelector('#df-24f65897-f04f-4db9-9685-65a97367140d');\n",
              "          const dataTable =\n",
              "            await google.colab.kernel.invokeFunction('convertToInteractive',\n",
              "                                                     [key], {});\n",
              "          if (!dataTable) return;\n",
              "\n",
              "          const docLinkHtml = 'Like what you see? Visit the ' +\n",
              "            '<a target=\"_blank\" href=https://colab.research.google.com/notebooks/data_table.ipynb>data table notebook</a>'\n",
              "            + ' to learn more about interactive tables.';\n",
              "          element.innerHTML = '';\n",
              "          dataTable['output_type'] = 'display_data';\n",
              "          await google.colab.output.renderOutput(dataTable, element);\n",
              "          const docLink = document.createElement('div');\n",
              "          docLink.innerHTML = docLinkHtml;\n",
              "          element.appendChild(docLink);\n",
              "        }\n",
              "      </script>\n",
              "    </div>\n",
              "  </div>\n",
              "  "
            ]
          },
          "metadata": {},
          "execution_count": 64
        }
      ]
    },
    {
      "cell_type": "markdown",
      "source": [
        "## Initial"
      ],
      "metadata": {
        "id": "sXmYir6kLa4X"
      }
    },
    {
      "cell_type": "markdown",
      "source": [
        "#### Prepocessing"
      ],
      "metadata": {
        "id": "N7h8EWT7MDnK"
      }
    },
    {
      "cell_type": "code",
      "source": [
        "# Plot Distribusi Data\n",
        "plt.figure(figsize=(12, 6))\n",
        "plt.title('Risiko Distribution Plot')\n",
        "sns.distplot(Y3)"
      ],
      "metadata": {
        "colab": {
          "base_uri": "https://localhost:8080/",
          "height": 427
        },
        "outputId": "e3f781ac-8688-4d17-a575-a31247ce3d0c",
        "id": "S1csoJ_iLa4X"
      },
      "execution_count": 65,
      "outputs": [
        {
          "output_type": "execute_result",
          "data": {
            "text/plain": [
              "<matplotlib.axes._subplots.AxesSubplot at 0x7ff9cfc0ab10>"
            ]
          },
          "metadata": {},
          "execution_count": 65
        },
        {
          "output_type": "display_data",
          "data": {
            "text/plain": [
              "<Figure size 864x432 with 1 Axes>"
            ],
            "image/png": "[encoded data removed]"
          },
          "metadata": {}
        }
      ]
    },
    {
      "cell_type": "code",
      "source": [
        "plt.figure(figsize=(10,4))\n",
        "sns.boxplot(x=df3['NPL Produktif'], color='grey')\n",
        "plt.xlabel('Value')\n",
        "plt.title('Boxplot NPL Produktif')\n",
        "plt.show"
      ],
      "metadata": {
        "colab": {
          "base_uri": "https://localhost:8080/",
          "height": 318
        },
        "outputId": "ec5ce5c3-d2f1-498b-ba8e-81956e4eb7dc",
        "id": "VUG-ml0vLa4Y"
      },
      "execution_count": 66,
      "outputs": [
        {
          "output_type": "execute_result",
          "data": {
            "text/plain": [
              "<function matplotlib.pyplot.show>"
            ]
          },
          "metadata": {},
          "execution_count": 66
        },
        {
          "output_type": "display_data",
          "data": {
            "text/plain": [
              "<Figure size 720x288 with 1 Axes>"
            ],
            "image/png": "[encoded data removed]"
          },
          "metadata": {}
        }
      ]
    },
    {
      "cell_type": "markdown",
      "source": [
        "Karena terdapat beberapa outlier pada NPL Produktif maka kita akan menghapus outlier tersebut agar model yang nanti digunakan bisa signifikan"
      ],
      "metadata": {
        "id": "cY4tBdOmLa4Y"
      }
    },
    {
      "cell_type": "code",
      "source": [
        "# Remove Outlier\n",
        "# IQR\n",
        "Q1 = np.percentile(df3['NPL Produktif'], 25,\n",
        "                   interpolation = 'midpoint')\n",
        " \n",
        "Q3 = np.percentile(df3['NPL Produktif'], 75,\n",
        "                   interpolation = 'midpoint')\n",
        "IQR = Q3 - Q1\n",
        " \n",
        "# Upper bound\n",
        "upper = np.where(df3['NPL Produktif'] >= (Q3+1.5*IQR))\n",
        "# Lower bound\n",
        "lower = np.where(df3['NPL Produktif'] <= (Q1-1.5*IQR))\n",
        " \n",
        "''' Removing the Outliers '''\n",
        "df3.drop(upper[0], inplace = True)\n",
        "df3.drop(lower[0], inplace = True)"
      ],
      "metadata": {
        "id": "PCnVS83hLa4Y"
      },
      "execution_count": 67,
      "outputs": []
    },
    {
      "cell_type": "code",
      "source": [
        "plt.figure(figsize=(10,4))\n",
        "sns.boxplot(x=df3['NPL Produktif'], color='grey')\n",
        "plt.xlabel('Value')\n",
        "plt.title('Boxplot NPL Produktif')\n",
        "plt.show"
      ],
      "metadata": {
        "colab": {
          "base_uri": "https://localhost:8080/",
          "height": 318
        },
        "outputId": "aa54af34-5ce5-44e4-f266-5021fd20c4eb",
        "id": "2H8Zkv68La4Y"
      },
      "execution_count": 69,
      "outputs": [
        {
          "output_type": "execute_result",
          "data": {
            "text/plain": [
              "<function matplotlib.pyplot.show>"
            ]
          },
          "metadata": {},
          "execution_count": 69
        },
        {
          "output_type": "display_data",
          "data": {
            "text/plain": [
              "<Figure size 720x288 with 1 Axes>"
            ],
            "image/png": "[encoded data removed]"
          },
          "metadata": {}
        }
      ]
    },
    {
      "cell_type": "markdown",
      "source": [
        "Didapatkan tidak terdapat outlier pada data NPL Produktif"
      ],
      "metadata": {
        "id": "8rc_xWI2La4Z"
      }
    },
    {
      "cell_type": "markdown",
      "source": [
        "### Multiple Regression Model"
      ],
      "metadata": {
        "id": "mrQXNs0qLa4Z"
      }
    },
    {
      "cell_type": "code",
      "source": [
        "#Multiple Regression Model\n",
        "x3 = df3[['Diversifikasi', 'Persentase Beban Training', 'LN Total Aset', 'GDP']]\n",
        "Y3 = df3['NPL Produktif']\n",
        "X3 = sm.add_constant(x3)\n",
        "result = sm.OLS(Y3, X3).fit()\n",
        "\n",
        "print(result.summary())"
      ],
      "metadata": {
        "colab": {
          "base_uri": "https://localhost:8080/"
        },
        "outputId": "e5fb5cde-a08e-4088-8625-8a54db9150e9",
        "id": "UU1sNvrzLa4a"
      },
      "execution_count": 70,
      "outputs": [
        {
          "output_type": "stream",
          "name": "stdout",
          "text": [
            "                            OLS Regression Results                            \n",
            "==============================================================================\n",
            "Dep. Variable:          NPL Produktif   R-squared:                       0.124\n",
            "Model:                            OLS   Adj. R-squared:                  0.086\n",
            "Method:                 Least Squares   F-statistic:                     3.278\n",
            "Date:                Mon, 25 Jul 2022   Prob (F-statistic):             0.0146\n",
            "Time:                        02:29:59   Log-Likelihood:                -260.79\n",
            "No. Observations:                  98   AIC:                             531.6\n",
            "Df Residuals:                      93   BIC:                             544.5\n",
            "Df Model:                           4                                         \n",
            "Covariance Type:            nonrobust                                         \n",
            "=============================================================================================\n",
            "                                coef    std err          t      P>|t|      [0.025      0.975]\n",
            "---------------------------------------------------------------------------------------------\n",
            "const                        -5.0512     15.215     -0.332      0.741     -35.265      25.163\n",
            "Diversifikasi                -0.0740      0.042     -1.755      0.083      -0.158       0.010\n",
            "Persentase Beban Training     0.4574      0.214      2.136      0.035       0.032       0.883\n",
            "LN Total Aset                 0.4683      0.469      0.999      0.320      -0.462       1.399\n",
            "GDP                           0.0001   7.68e-05      1.429      0.156   -4.28e-05       0.000\n",
            "==============================================================================\n",
            "Omnibus:                        9.943   Durbin-Watson:                   0.862\n",
            "Prob(Omnibus):                  0.007   Jarque-Bera (JB):                9.959\n",
            "Skew:                           0.752   Prob(JB):                      0.00688\n",
            "Kurtosis:                       3.423   Cond. No.                     2.02e+05\n",
            "==============================================================================\n",
            "\n",
            "Warnings:\n",
            "[1] Standard Errors assume that the covariance matrix of the errors is correctly specified.\n",
            "[2] The condition number is large, 2.02e+05. This might indicate that there are\n",
            "strong multicollinearity or other numerical problems.\n"
          ]
        }
      ]
    },
    {
      "cell_type": "markdown",
      "source": [
        "Variabel independen LN Total Aset dan GDP memiliki p-value > alpha sehingga variabel tersebut tidak signifikan terhadap variabel NPL Produktif, sehingga variabel tersebut harus dihapus dari variabel independen"
      ],
      "metadata": {
        "id": "hDkSJCJ5La4a"
      }
    },
    {
      "cell_type": "code",
      "source": [
        "# Multiple Regression Model\n",
        "x3 = df3[['Diversifikasi', 'Persentase Beban Training']]\n",
        "X3 = sm.add_constant(x3)\n",
        "result = sm.OLS(Y3, X3).fit()\n",
        "\n",
        "print(result.summary())"
      ],
      "metadata": {
        "colab": {
          "base_uri": "https://localhost:8080/"
        },
        "outputId": "462d4cb5-a8fe-474f-c331-0bc117214dcc",
        "id": "v3rhEhSRLa4a"
      },
      "execution_count": 73,
      "outputs": [
        {
          "output_type": "stream",
          "name": "stdout",
          "text": [
            "                            OLS Regression Results                            \n",
            "==============================================================================\n",
            "Dep. Variable:          NPL Produktif   R-squared:                       0.093\n",
            "Model:                            OLS   Adj. R-squared:                  0.074\n",
            "Method:                 Least Squares   F-statistic:                     4.850\n",
            "Date:                Mon, 25 Jul 2022   Prob (F-statistic):            0.00987\n",
            "Time:                        02:31:27   Log-Likelihood:                -262.49\n",
            "No. Observations:                  98   AIC:                             531.0\n",
            "Df Residuals:                      95   BIC:                             538.7\n",
            "Df Model:                           2                                         \n",
            "Covariance Type:            nonrobust                                         \n",
            "=============================================================================================\n",
            "                                coef    std err          t      P>|t|      [0.025      0.975]\n",
            "---------------------------------------------------------------------------------------------\n",
            "const                        10.6033      2.911      3.642      0.000       4.824      16.383\n",
            "Diversifikasi                -0.0908      0.041     -2.193      0.031      -0.173      -0.009\n",
            "Persentase Beban Training     0.4128      0.212      1.944      0.055      -0.009       0.834\n",
            "==============================================================================\n",
            "Omnibus:                        7.625   Durbin-Watson:                   0.849\n",
            "Prob(Omnibus):                  0.022   Jarque-Bera (JB):                7.389\n",
            "Skew:                           0.662   Prob(JB):                       0.0249\n",
            "Kurtosis:                       3.233   Cond. No.                         534.\n",
            "==============================================================================\n",
            "\n",
            "Warnings:\n",
            "[1] Standard Errors assume that the covariance matrix of the errors is correctly specified.\n"
          ]
        }
      ]
    },
    {
      "cell_type": "markdown",
      "source": [
        "R² berkisar antara 0 dan 1, di mana R²=0 berarti tidak ada hubungan linier antara variabel dan R²=1 menunjukkan hubungan linier yang sempurna. Dalam kasus ini, kita mendapat skor R² sekitar 0.093 yang berarti 9.3% dari variabel dependen dapat dijelaskan menggunakan variabel independen."
      ],
      "metadata": {
        "id": "x8VWJixyLa4a"
      }
    },
    {
      "cell_type": "code",
      "source": [
        "#F-Test (ANOVA)\n",
        "print('F-statistic:', result.fvalue)\n",
        "print('Probability of observing value at least as high as F-statistic:', result.f_pvalue)"
      ],
      "metadata": {
        "colab": {
          "base_uri": "https://localhost:8080/"
        },
        "outputId": "524a7fe3-eabf-46fb-c11a-1f875d5a4957",
        "id": "qLz4OdEoLa4a"
      },
      "execution_count": 74,
      "outputs": [
        {
          "output_type": "stream",
          "name": "stdout",
          "text": [
            "F-statistic: 4.84977774170215\n",
            "Probability of observing value at least as high as F-statistic: 0.009873962069085683\n"
          ]
        }
      ]
    },
    {
      "cell_type": "markdown",
      "source": [
        "Karena f_pvalue yang didapat lebih rendah dari 0.05 yaitu 0.009, kita dapat menyimpulkan bahwa model ini berkinerja lebih baik daripada model lain yang lebih sederhana."
      ],
      "metadata": {
        "id": "0TEUt_5rLa4b"
      }
    },
    {
      "cell_type": "markdown",
      "source": [
        "#### Multiple Linear Regression Equation"
      ],
      "metadata": {
        "id": "gGBvZVneLa4b"
      }
    },
    {
      "cell_type": "markdown",
      "source": [
        "$\\hat{Y} = 10.6033 - 0.0908 X_1 + 0.4128 X_2$\n",
        "\n",
        "Atau\n",
        "\n",
        "$\\hat{Y}$ = 10.6033 - 0.0908 Diversifikasi + 0.4128 Persentase Beban Training"
      ],
      "metadata": {
        "id": "zzjwK5-KLa4b"
      }
    },
    {
      "cell_type": "markdown",
      "source": [
        "Nilai intersep adalah perkiraan nilai rata-rata variabel dependen kita ketika semua nilai variabel independen kita adalah 0. Dalam kasus ini berarti bahwa nilai diversifikasi bernilai 0 dan nilai persentase beban training bernilai 0 maka nilai NPL Produktif dari suatu Bank BPD sekitar 10.6033\n",
        "\n",
        "Untuk koefisien kami memiliki 2 nilai untuk variabel diversifikasi dan persentase beban training. Nilai ini mewakili hubungan variabel independen kita dengan variabel dependen, di mana perubahan tepat 1 pada variabel independen akan mengubah nilai variabel dependen dengan jumlah yang sama dengan koefisien. Misalnya, jika nilai diversifikasi meningkat 10 makan akan menurunkan nilai NPL Produkif sekitar 0.908."
      ],
      "metadata": {
        "id": "OBIMkRXyLa4b"
      }
    },
    {
      "cell_type": "markdown",
      "source": [
        "### Multiple Linear Regression Assumptions"
      ],
      "metadata": {
        "id": "_Tv-mxx2La4b"
      }
    },
    {
      "cell_type": "markdown",
      "source": [
        "#### Autocorrelation in Residual\n",
        "\n",
        "H0: Tidak ada autokorelasi \n",
        "\n",
        "H1: Ada autokorelasi"
      ],
      "metadata": {
        "id": "VMoqBjfBLa4c"
      }
    },
    {
      "cell_type": "code",
      "source": [
        "# residuals model regresi linier berganda\n",
        "err = result.resid"
      ],
      "metadata": {
        "colab": {
          "base_uri": "https://localhost:8080/"
        },
        "id": "MSyLnSzNLa4c",
        "outputId": "8a62e25e-bbd3-4e27-f485-030b7216399f"
      },
      "execution_count": 77,
      "outputs": [
        {
          "output_type": "stream",
          "name": "stdout",
          "text": [
            "0     -2.635210\n",
            "1      0.744924\n",
            "2     -1.925561\n",
            "3     -1.921332\n",
            "4     -1.269555\n",
            "         ...   \n",
            "99    -2.410116\n",
            "100   -2.026648\n",
            "101   -1.898811\n",
            "102   -1.648439\n",
            "103   -2.388114\n",
            "Length: 98, dtype: float64\n"
          ]
        }
      ]
    },
    {
      "cell_type": "code",
      "source": [
        "## membuat plot residuals vs time order\n",
        "# membuat list time order\n",
        "time=list(range(1,98+1)) #karena terdapat 98 data\n",
        "\n",
        "plt.scatter(x=time, y=err)\n",
        "plt.xlabel('time order', fontsize=12)\n",
        "plt.ylabel('residuals', fontsize=12)\n",
        "plt.show()"
      ],
      "metadata": {
        "colab": {
          "base_uri": "https://localhost:8080/",
          "height": 396
        },
        "outputId": "ffc97b6e-19f3-45af-9d52-da48e2391d68",
        "id": "TQrKto2bLa4c"
      },
      "execution_count": 78,
      "outputs": [
        {
          "output_type": "display_data",
          "data": {
            "text/plain": [
              "<Figure size 936x432 with 1 Axes>"
            ],
            "image/png": "[encoded data removed]"
          },
          "metadata": {}
        }
      ]
    },
    {
      "cell_type": "code",
      "source": [
        "import statsmodels.tsa.api as smt\n",
        "acf = smt.graphics.plot_acf(err, lags=10 , alpha=0.05)\n",
        "acf.show()"
      ],
      "metadata": {
        "colab": {
          "base_uri": "https://localhost:8080/",
          "height": 393
        },
        "outputId": "2e1aa45e-5dcb-40aa-f309-b42e3bf1cdb2",
        "id": "0IIEn-HlLa4c"
      },
      "execution_count": 79,
      "outputs": [
        {
          "output_type": "display_data",
          "data": {
            "text/plain": [
              "<Figure size 936x432 with 1 Axes>"
            ],
            "image/png": "[encoded data removed]"
          },
          "metadata": {}
        }
      ]
    },
    {
      "cell_type": "markdown",
      "source": [
        "Pada Lag 1 terlihat bahwa data tersebut melebihi area sehingga mengindikasikan terdapat autokorelasi positif dalam residual"
      ],
      "metadata": {
        "id": "NiQ1bYb3La4c"
      }
    },
    {
      "cell_type": "markdown",
      "source": [
        "Menentukan daerah kritis\n",
        "\n",
        "Tolak H0: jika 0 < DW < dl  atau 4 – dl < DW < 4\n",
        "\n",
        "Gagal tolak H0: jika du < DW <4 – du\n",
        "\n",
        "Tidak ada keputusan : jika dl < DW < du atau 4 – du < DW < 4 – dl"
      ],
      "metadata": {
        "id": "37Mzc1R-La4c"
      }
    },
    {
      "cell_type": "markdown",
      "source": [
        "Statistik uji\n",
        "\n",
        "Karena nilai DW 0.849 dengan 0 < DW < dl atau 0 < 0.849 < 1.63 sehingga dapat dikatakan bahwa Tolak H0.  "
      ],
      "metadata": {
        "id": "ODFx0NnTLa4d"
      }
    },
    {
      "cell_type": "markdown",
      "source": [
        "Jadi, dengan tingkat signifikansi 5% dapat disimpulkan bahwa keputusan uji adalah terdapat Autokorelasi."
      ],
      "metadata": {
        "id": "oIEZRWyWLa4d"
      }
    },
    {
      "cell_type": "markdown",
      "source": [
        "#### Normality in Residual"
      ],
      "metadata": {
        "id": "jX0sWQ3NLa4d"
      }
    },
    {
      "cell_type": "code",
      "source": [
        "# membuat histogram\n",
        "sns.distplot(err, hist=True, kde=True, \n",
        "             color = 'darkblue', \n",
        "             hist_kws={'edgecolor':'white'},\n",
        "             kde_kws={'linewidth': 3})"
      ],
      "metadata": {
        "colab": {
          "base_uri": "https://localhost:8080/",
          "height": 394
        },
        "outputId": "c879ad2c-519b-4a51-ac6c-6b5e6cec6b44",
        "id": "8wU_mi9xLa4d"
      },
      "execution_count": 80,
      "outputs": [
        {
          "output_type": "execute_result",
          "data": {
            "text/plain": [
              "<matplotlib.axes._subplots.AxesSubplot at 0x7ff9cdd2c4d0>"
            ]
          },
          "metadata": {},
          "execution_count": 80
        },
        {
          "output_type": "display_data",
          "data": {
            "text/plain": [
              "<Figure size 936x432 with 1 Axes>"
            ],
            "image/png": "[encoded data removed]"
          },
          "metadata": {}
        }
      ]
    },
    {
      "cell_type": "code",
      "source": [
        "# membuat q-q plot\n",
        "stats.probplot(err, dist=\"norm\", plot=pylab)\n",
        "pylab.show()"
      ],
      "metadata": {
        "colab": {
          "base_uri": "https://localhost:8080/",
          "height": 410
        },
        "outputId": "cfd01098-c0fa-4743-fc26-82f4a0d1a353",
        "id": "sPCB_vIBLa4d"
      },
      "execution_count": 81,
      "outputs": [
        {
          "output_type": "display_data",
          "data": {
            "text/plain": [
              "<Figure size 936x432 with 1 Axes>"
            ],
            "image/png": "[encoded data removed]"
          },
          "metadata": {}
        }
      ]
    },
    {
      "cell_type": "markdown",
      "source": [
        "Secara visual, data residual dikatakan berdistribusi normal apabila menyentuh atau mendekati garis. Jadi, data tersebut berdistribusi normal karena banyak data yang mendekati garis."
      ],
      "metadata": {
        "id": "jadn60EbLa4e"
      }
    },
    {
      "cell_type": "code",
      "source": [
        "# uji normalitas dengan kolmogorov-smirnov test\n",
        "ks = kstest(err,'norm')\n",
        "print('Statistic KS:', ks.statistic.round(4))\n",
        "print('P-value:', ks.pvalue.round(4))\n",
        "\n",
        "# interpret\n",
        "alpha = 0.05\n",
        "if ks.pvalue > alpha:\n",
        "\tprint('Data Berdistribusi Normal (Gagal Tolak H0)')\n",
        "else:\n",
        "\tprint('Data Tidak Berdistribusi Normal (Tolak H0)')"
      ],
      "metadata": {
        "colab": {
          "base_uri": "https://localhost:8080/"
        },
        "outputId": "da985e92-0c9c-4126-b694-e234c9be372d",
        "id": "5eXctiQzLa4e"
      },
      "execution_count": 82,
      "outputs": [
        {
          "output_type": "stream",
          "name": "stdout",
          "text": [
            "Statistic KS: 0.3402\n",
            "P-value: 0.0\n",
            "Data Tidak Berdistribusi Normal (Tolak H0)\n"
          ]
        }
      ]
    },
    {
      "cell_type": "code",
      "source": [
        "# uji normalitas dengan shapiro wilk test\n",
        "stat, p = shapiro(err)\n",
        "print('Statistics=%.3f, p=%.3f' % (stat, p))\n",
        "# interpret\n",
        "alpha = 0.05\n",
        "if p > alpha:\n",
        "  print('Data Berdistribusi Normal (Gagal Tolak H0)')\n",
        "else:\n",
        "  print('Data Tidak Berdistribusi Normal (Tolak H0)')"
      ],
      "metadata": {
        "colab": {
          "base_uri": "https://localhost:8080/"
        },
        "outputId": "8628534d-8aaa-4635-ce49-34b06b4cdbed",
        "id": "a8fyID0CLa4e"
      },
      "execution_count": 83,
      "outputs": [
        {
          "output_type": "stream",
          "name": "stdout",
          "text": [
            "Statistics=0.963, p=0.008\n",
            "Data Tidak Berdistribusi Normal (Tolak H0)\n"
          ]
        }
      ]
    },
    {
      "cell_type": "markdown",
      "source": [
        "#### Homoskedasticity in Residual\n",
        "\n",
        "H0: Variansi error konstan (homoskedastatis)\n",
        "\n",
        "H1: Variansi error tidak konstan (heteroskedastatis)"
      ],
      "metadata": {
        "id": "E9o5xxDaLa4e"
      }
    },
    {
      "cell_type": "code",
      "source": [
        "df3.rename(columns = {'Persentase Beban Training':'Persentase_Beban_Training', 'LN Total Aset':'LN_Total_Aset',\n",
        "                      'NPL Produktif':'NPL_Produktif'}, inplace = True)\n",
        "import statsmodels.formula.api as smf\n",
        "lm =smf.ols(formula=\"NPL_Produktif~Diversifikasi+Persentase_Beban_Training\",data=df3).fit()\n",
        "resid=lm.resid\n",
        "plt.scatter(lm.predict(),resid)"
      ],
      "metadata": {
        "colab": {
          "base_uri": "https://localhost:8080/",
          "height": 396
        },
        "outputId": "4eb651f4-0563-401a-eeee-9093e1ad8cb4",
        "id": "fu14LxQyLa4f"
      },
      "execution_count": 85,
      "outputs": [
        {
          "output_type": "execute_result",
          "data": {
            "text/plain": [
              "<matplotlib.collections.PathCollection at 0x7ff9cdb4e9d0>"
            ]
          },
          "metadata": {},
          "execution_count": 85
        },
        {
          "output_type": "display_data",
          "data": {
            "text/plain": [
              "<Figure size 936x432 with 1 Axes>"
            ],
            "image/png": "[encoded data removed]"
          },
          "metadata": {}
        }
      ]
    },
    {
      "cell_type": "code",
      "source": [
        "keys = ['Lagrange Multiplier statistic:', 'LM test\\'s p-value:', 'F-statistic:', 'F-test\\'s p-value:']\n",
        "results = het_white(err, lm.model.exog, retres=False)\n",
        "lzip(keys, results)"
      ],
      "metadata": {
        "colab": {
          "base_uri": "https://localhost:8080/"
        },
        "outputId": "de08c16e-7bf3-4498-85f1-13c2ad09dc0d",
        "id": "LFqZJUCxLa4f"
      },
      "execution_count": 86,
      "outputs": [
        {
          "output_type": "execute_result",
          "data": {
            "text/plain": [
              "[('Lagrange Multiplier statistic:', 1.1424273429132774),\n",
              " (\"LM test's p-value:\", 0.9502799852258639),\n",
              " ('F-statistic:', 0.2170265321847941),\n",
              " (\"F-test's p-value:\", 0.9544355152485384)]"
            ]
          },
          "metadata": {},
          "execution_count": 86
        }
      ]
    },
    {
      "cell_type": "markdown",
      "source": [
        "Tes LM: Statistik tes LM mengikuti distribusi Chi-kuadrat dengan derajat kebebasan = DF model - 1 = (3-1) = 2. Nilai p (0.95) sangat tinggi. Jadi kami menerima hipotesis nol dari tes bahwa tidak ada heterokedastatis dalam kesalahan residual.\n",
        "\n",
        "Uji-F: Statistik uji-F mengikuti distribusi-F. Sekali lagi, nilai p yang tinggi sebesar 0.954 menegaskan hipotesis nol dari tes bahwa tidak ada heterokedastatis dalam kesalahan residual.\n",
        "\n",
        "Secara keseluruhan, kami menyimpulkan bahwa kesalahan residual bersifat homoskedastik."
      ],
      "metadata": {
        "id": "8yiz4XMHLa4f"
      }
    },
    {
      "cell_type": "markdown",
      "source": [
        "#### Linearity between Y(NPL Produktif) and X(Diversifikasi, Persentase Beban Training)"
      ],
      "metadata": {
        "id": "2b1lS2e9La4f"
      }
    },
    {
      "cell_type": "code",
      "source": [
        "#untuk membuat scatter plot antara variabel respons dan variabel prediktor\n",
        "plt.figure(figsize=(20, 5))\n",
        "\n",
        "predictors = ['Diversifikasi', 'Persentase_Beban_Training']\n",
        "response = df3['NPL_Produktif']\n",
        "\n",
        "for i, col in enumerate(predictors):\n",
        "    plt.subplot(1, len(predictors) , i+1)\n",
        "    x = df3[col]\n",
        "    y = response\n",
        "    plt.scatter(x, y, marker='o', color='darkblue')\n",
        "    plt.title(col)\n",
        "    plt.xlabel(col)\n",
        "    plt.ylabel('NPL Produktif')"
      ],
      "metadata": {
        "colab": {
          "base_uri": "https://localhost:8080/",
          "height": 289
        },
        "outputId": "fc4e4a3c-0011-4a69-bd86-a5cf2a2c822a",
        "id": "Ga4oUnMWLa4f"
      },
      "execution_count": 88,
      "outputs": [
        {
          "output_type": "display_data",
          "data": {
            "text/plain": [
              "<Figure size 1440x360 with 2 Axes>"
            ],
            "image/png": "[encoded data removed]"
          },
          "metadata": {}
        }
      ]
    },
    {
      "cell_type": "markdown",
      "source": [
        "##### Linear Relationship between X(Diversifikasi) and Y(NPL Produktif)"
      ],
      "metadata": {
        "id": "jzVLLOueLa4g"
      }
    },
    {
      "cell_type": "code",
      "source": [
        "# menghitung nilai korelasi X dan Y\n",
        "corr, _ = pearsonr(df3['Diversifikasi'], df3['NPL_Produktif'])\n",
        "print('Pearsons correlation: %.4f' % corr)"
      ],
      "metadata": {
        "colab": {
          "base_uri": "https://localhost:8080/"
        },
        "outputId": "9fce301f-91ec-4eaf-ef7b-181c3aa7af4e",
        "id": "hT6YA0p0La4g"
      },
      "execution_count": 89,
      "outputs": [
        {
          "output_type": "stream",
          "name": "stdout",
          "text": [
            "Pearsons correlation: -0.2378\n"
          ]
        }
      ]
    },
    {
      "cell_type": "markdown",
      "source": [
        "Didapatkan nilai koefisien korelasi antara Diversifikasi dengan NPL Produktif dari metode pearsons sebesar -0.2378 karena bernilai negatif maka garis linier dari kiri semakin turun ke kanan dengan kata lain jika nilai diversifikasi semakin meningkat maka nilai npl produktif semakin menurun dan sebaliknya"
      ],
      "metadata": {
        "id": "uOrjj2HtLa4g"
      }
    },
    {
      "cell_type": "markdown",
      "source": [
        "##### Linear Relationship between X(Persentase Beban Training) and Y(NPL Produktif)"
      ],
      "metadata": {
        "id": "wzjMQsh7La4g"
      }
    },
    {
      "cell_type": "code",
      "source": [
        "# menghitung nilai korelasi X dan Y\n",
        "corr, _ = pearsonr(df3['Persentase_Beban_Training'], df3['NPL_Produktif'])\n",
        "print('Pearsons correlation: %.4f' % corr)"
      ],
      "metadata": {
        "colab": {
          "base_uri": "https://localhost:8080/"
        },
        "outputId": "03653770-7ab1-4b3c-85e0-dc3a65303834",
        "id": "gX4vJQmlLa4h"
      },
      "execution_count": 90,
      "outputs": [
        {
          "output_type": "stream",
          "name": "stdout",
          "text": [
            "Pearsons correlation: 0.2161\n"
          ]
        }
      ]
    },
    {
      "cell_type": "markdown",
      "source": [
        "Didapatkan nilai koefisien korelasi antara Persentase Beban Training dengan NPL Produktif dari metode pearsons sebesar 0.2161 karena bernilai positif maka garis linier dari kiri semakin naik ke kanan dengan kata lain jika nilai Persentase Beban Training semakin meningkat maka nilai NPL Produktif semakin meningkat dan sebaliknya"
      ],
      "metadata": {
        "id": "ZCkWNKvhLa4h"
      }
    },
    {
      "cell_type": "markdown",
      "source": [
        "#### Multicollinearity in Independen Variabel\n",
        "\n",
        "Hipotesis\n",
        "\n",
        "H0: VIF < 10 artinya tidak terdapat Multikolinearitas.\n",
        "\n",
        "H1: VIF > 10 artinya terdapat Multikolinearitas."
      ],
      "metadata": {
        "id": "QTciGrbALa4h"
      }
    },
    {
      "cell_type": "code",
      "source": [
        "# VIF dataframe\n",
        "vif_data = pd.DataFrame()\n",
        "vif_data[\"feature\"] = x3.columns\n",
        "  \n",
        "# calculating VIF for each feature\n",
        "vif_data[\"VIF\"] = [variance_inflation_factor(x3.values, i)\n",
        "                          for i in range(len(x3.columns))]\n",
        "  \n",
        "print(vif_data)"
      ],
      "metadata": {
        "colab": {
          "base_uri": "https://localhost:8080/"
        },
        "outputId": "b49b77b8-2cf3-4e88-b6de-84f1480b3684",
        "id": "MVs59gWULa4h"
      },
      "execution_count": 91,
      "outputs": [
        {
          "output_type": "stream",
          "name": "stdout",
          "text": [
            "                     feature       VIF\n",
            "0              Diversifikasi  4.306338\n",
            "1  Persentase Beban Training  4.306338\n"
          ]
        }
      ]
    },
    {
      "cell_type": "markdown",
      "source": [
        "Kesimpulan:\n",
        "\n",
        "Karena VIF kedua variabel independen < 10, maka tidak terdapat kasus multikolinieritas. "
      ],
      "metadata": {
        "id": "xvIPDTcfLa4i"
      }
    }
  ]
}